{
  "nbformat": 4,
  "nbformat_minor": 0,
  "metadata": {
    "colab": {
      "name": "Copy_of_Assignment_1_DS.ipynb",
      "provenance": [],
      "collapsed_sections": []
    },
    "kernelspec": {
      "display_name": "Python 3",
      "language": "python",
      "name": "python3"
    },
    "language_info": {
      "codemirror_mode": {
        "name": "ipython",
        "version": 3
      },
      "file_extension": ".py",
      "mimetype": "text/x-python",
      "name": "python",
      "nbconvert_exporter": "python",
      "pygments_lexer": "ipython3",
      "version": "3.7.4"
    }
  },
  "cells": [
    {
      "cell_type": "markdown",
      "metadata": {
        "colab_type": "text",
        "id": "hmr2U-GChnlR"
      },
      "source": [
        "\n",
        "# **Assignment - 1 : Getting Started**\n",
        "\n",
        "---\n",
        "\n",
        "This assignment will get you familiarized with python libraries required for ***data science*** and ***machine learning***. You will have to complete the code snippets and run them. "
      ]
    },
    {
      "cell_type": "markdown",
      "metadata": {
        "colab_type": "text",
        "id": "211pD45xEO0u"
      },
      "source": [
        "## **Note :**   Use only the methods and attributes of the ```numpy``` library. **Do not** hard-code them. Avoid loops as much as possible."
      ]
    },
    {
      "cell_type": "markdown",
      "metadata": {
        "colab_type": "text",
        "id": "O7v9C4mun3SQ"
      },
      "source": [
        "---\n",
        "## Part - 1\n",
        " In this part, you will work with the library ```numpy```. \n",
        "\n",
        "\n"
      ]
    },
    {
      "cell_type": "markdown",
      "metadata": {
        "colab_type": "text",
        "id": "846yDaXQwiMD"
      },
      "source": [
        "Import ```numpy``` with an alias name ```np```. Initialize two arrays $a$, $b$ of size $3 \\times 5$ with random values and print them. "
      ]
    },
    {
      "cell_type": "code",
      "metadata": {
        "colab_type": "code",
        "id": "_MyeCO3_o3oq",
        "outputId": "cd55dd4e-1563-4efa-a1be-1aea1b0ffd25",
        "colab": {
          "base_uri": "https://localhost:8080/",
          "height": 123
        }
      },
      "source": [
        "import numpy as np\n",
        "a = np.random.rand(3,5)\n",
        "b = np.random.rand(3,5)\n",
        "print(a)\n",
        "print(b)"
      ],
      "execution_count": 0,
      "outputs": [
        {
          "output_type": "stream",
          "text": [
            "[[0.2472283  0.15830237 0.88334623 0.2988844  0.22336074]\n",
            " [0.33959336 0.72782394 0.97480284 0.2439346  0.0858044 ]\n",
            " [0.62974369 0.33696873 0.98367391 0.20957019 0.38895953]]\n",
            "[[0.67114901 0.17978691 0.94867227 0.16342291 0.65027505]\n",
            " [0.88201082 0.72169152 0.25410361 0.18179238 0.37994061]\n",
            " [0.38866355 0.77999682 0.56931348 0.35941495 0.87211613]]\n"
          ],
          "name": "stdout"
        }
      ]
    },
    {
      "cell_type": "markdown",
      "metadata": {
        "colab_type": "text",
        "id": "p7jtpYT4wiO6"
      },
      "source": [
        "Initialize and print two arrays $c$ and $d$ having the following properties:\n",
        "*   $c$ is a row vector with all non-negative integer values less than 100\n",
        "* $d$ is a square matrix of size 3 having all entries as 0.0"
      ]
    },
    {
      "cell_type": "code",
      "metadata": {
        "colab_type": "code",
        "id": "a2lJdRf8x9f2",
        "outputId": "96d9462a-c2eb-44e4-9c1c-c72debf5d09e",
        "colab": {
          "base_uri": "https://localhost:8080/",
          "height": 158
        }
      },
      "source": [
        "c = np.arange(0,100)\n",
        "d = np.zeros((3,3))\n",
        "print(c)\n",
        "print(d)"
      ],
      "execution_count": 0,
      "outputs": [
        {
          "output_type": "stream",
          "text": [
            "[ 0  1  2  3  4  5  6  7  8  9 10 11 12 13 14 15 16 17 18 19 20 21 22 23\n",
            " 24 25 26 27 28 29 30 31 32 33 34 35 36 37 38 39 40 41 42 43 44 45 46 47\n",
            " 48 49 50 51 52 53 54 55 56 57 58 59 60 61 62 63 64 65 66 67 68 69 70 71\n",
            " 72 73 74 75 76 77 78 79 80 81 82 83 84 85 86 87 88 89 90 91 92 93 94 95\n",
            " 96 97 98 99]\n",
            "[[0. 0. 0.]\n",
            " [0. 0. 0.]\n",
            " [0. 0. 0.]]\n"
          ],
          "name": "stdout"
        }
      ]
    },
    {
      "cell_type": "markdown",
      "metadata": {
        "colab_type": "text",
        "id": "qqgtSsa88Zmh"
      },
      "source": [
        "We have $e$ as following : ```e = [[1,2,3],[4,5,6],[7,8,9]]```. Change $e$ as a numpy array and print it."
      ]
    },
    {
      "cell_type": "code",
      "metadata": {
        "colab_type": "code",
        "id": "Krhm4bVE7RET",
        "outputId": "4dd25820-a53c-42f9-f01e-808741dd908b",
        "colab": {
          "base_uri": "https://localhost:8080/",
          "height": 70
        }
      },
      "source": [
        "e = [[1,2,3],[4,5,6],[7,8,9]]\n",
        "e = np.asarray(e)\n",
        "print(e)"
      ],
      "execution_count": 0,
      "outputs": [
        {
          "output_type": "stream",
          "text": [
            "[[1 2 3]\n",
            " [4 5 6]\n",
            " [7 8 9]]\n"
          ],
          "name": "stdout"
        }
      ]
    },
    {
      "cell_type": "markdown",
      "metadata": {
        "colab_type": "text",
        "id": "1qTikI0foam9"
      },
      "source": [
        "$f$ and $g$ are two square matrices of size 5 such that all the entries of $f$ are 1 and $g$ is an identity matrix. Initialize them and print them"
      ]
    },
    {
      "cell_type": "code",
      "metadata": {
        "colab_type": "code",
        "id": "DvaLckI49aBV",
        "outputId": "28a641be-ec5d-4f20-f7e8-91b75c30367a",
        "colab": {
          "base_uri": "https://localhost:8080/",
          "height": 194
        }
      },
      "source": [
        "f = np.ones((5,5))\n",
        "g = np.eye(5)\n",
        "print(f)\n",
        "print(g)"
      ],
      "execution_count": 0,
      "outputs": [
        {
          "output_type": "stream",
          "text": [
            "[[1. 1. 1. 1. 1.]\n",
            " [1. 1. 1. 1. 1.]\n",
            " [1. 1. 1. 1. 1.]\n",
            " [1. 1. 1. 1. 1.]\n",
            " [1. 1. 1. 1. 1.]]\n",
            "[[1. 0. 0. 0. 0.]\n",
            " [0. 1. 0. 0. 0.]\n",
            " [0. 0. 1. 0. 0.]\n",
            " [0. 0. 0. 1. 0.]\n",
            " [0. 0. 0. 0. 1.]]\n"
          ],
          "name": "stdout"
        }
      ]
    },
    {
      "cell_type": "markdown",
      "metadata": {
        "colab_type": "text",
        "id": "gcBZAZibAKcg"
      },
      "source": [
        "Reshape $c$ into a $10 \\times 10$ matrix and name it $h$. Now flatten $h$, call it $c^\\prime$ and print **YES** when the shapes of $c$ and $c^\\prime$ are same. Otherwise print **NO**."
      ]
    },
    {
      "cell_type": "code",
      "metadata": {
        "colab_type": "code",
        "id": "I71vtO9bA9Pi",
        "outputId": "512baeae-9f95-4763-c83d-91c0abe190f1",
        "colab": {
          "base_uri": "https://localhost:8080/",
          "height": 301
        }
      },
      "source": [
        "h = c.reshape(10,10)\n",
        "print(h)\n",
        "c1 = h.flatten()\n",
        "print(c1)\n",
        "if c.shape == c1.shape:\n",
        "  print(\"YES\")\n",
        "else:\n",
        "  print(\"NO\")"
      ],
      "execution_count": 0,
      "outputs": [
        {
          "output_type": "stream",
          "text": [
            "[[ 0  1  2  3  4  5  6  7  8  9]\n",
            " [10 11 12 13 14 15 16 17 18 19]\n",
            " [20 21 22 23 24 25 26 27 28 29]\n",
            " [30 31 32 33 34 35 36 37 38 39]\n",
            " [40 41 42 43 44 45 46 47 48 49]\n",
            " [50 51 52 53 54 55 56 57 58 59]\n",
            " [60 61 62 63 64 65 66 67 68 69]\n",
            " [70 71 72 73 74 75 76 77 78 79]\n",
            " [80 81 82 83 84 85 86 87 88 89]\n",
            " [90 91 92 93 94 95 96 97 98 99]]\n",
            "[ 0  1  2  3  4  5  6  7  8  9 10 11 12 13 14 15 16 17 18 19 20 21 22 23\n",
            " 24 25 26 27 28 29 30 31 32 33 34 35 36 37 38 39 40 41 42 43 44 45 46 47\n",
            " 48 49 50 51 52 53 54 55 56 57 58 59 60 61 62 63 64 65 66 67 68 69 70 71\n",
            " 72 73 74 75 76 77 78 79 80 81 82 83 84 85 86 87 88 89 90 91 92 93 94 95\n",
            " 96 97 98 99]\n",
            "YES\n"
          ],
          "name": "stdout"
        }
      ]
    },
    {
      "cell_type": "markdown",
      "metadata": {
        "colab_type": "text",
        "id": "8FrecDPiA-Bv"
      },
      "source": [
        "Let $A$ denote a randomly initialized three dimensional matrix of shape (2,10,5). Transpose $A$, call it $A^\\prime$, such that its shape is (5,2,10) and print it."
      ]
    },
    {
      "cell_type": "code",
      "metadata": {
        "colab_type": "code",
        "id": "VbOKqSm6Bkaq",
        "outputId": "5a43c00f-e098-4f66-a0c4-5d08065971bc",
        "colab": {
          "base_uri": "https://localhost:8080/",
          "height": 816
        }
      },
      "source": [
        "A = np.random.rand(2,10,5)\n",
        "print(A)\n",
        "A1 = A.transpose((2,0,1))\n",
        "print(A1)"
      ],
      "execution_count": 0,
      "outputs": [
        {
          "output_type": "stream",
          "text": [
            "[[[0.58370697 0.38263274 0.09526195 0.0800963  0.63459362]\n",
            "  [0.47674107 0.66390852 0.10900717 0.91131666 0.38306738]\n",
            "  [0.9073725  0.72886837 0.096697   0.48150917 0.47595908]\n",
            "  [0.06281686 0.91847995 0.05285848 0.11427283 0.45742912]\n",
            "  [0.29961754 0.19753467 0.14438462 0.24676042 0.14942627]\n",
            "  [0.60586118 0.82303335 0.0955517  0.66758033 0.94817755]\n",
            "  [0.57088363 0.91608561 0.82050234 0.83399787 0.82697412]\n",
            "  [0.75988696 0.57973097 0.27739259 0.57706958 0.17981282]\n",
            "  [0.52171607 0.20948073 0.94427627 0.68452167 0.42676854]\n",
            "  [0.40153347 0.85781269 0.0668156  0.24375727 0.34027118]]\n",
            "\n",
            " [[0.34212049 0.09927374 0.8090233  0.52874128 0.77774996]\n",
            "  [0.51866977 0.46497113 0.80456615 0.03931914 0.99620264]\n",
            "  [0.94672436 0.76541541 0.3814161  0.35214022 0.24661433]\n",
            "  [0.4157339  0.56270273 0.64225827 0.29519992 0.53455769]\n",
            "  [0.50007504 0.03199553 0.87882272 0.00762721 0.73176432]\n",
            "  [0.73949713 0.80706089 0.69690404 0.96923937 0.65525968]\n",
            "  [0.27476745 0.27856214 0.36799342 0.6966486  0.82416685]\n",
            "  [0.90787711 0.51583766 0.63422569 0.52714512 0.60213621]\n",
            "  [0.68486009 0.71500739 0.46909586 0.23777168 0.62390624]\n",
            "  [0.87249102 0.59222355 0.8990539  0.16909009 0.150283  ]]]\n",
            "[[[0.58370697 0.47674107 0.9073725  0.06281686 0.29961754 0.60586118\n",
            "   0.57088363 0.75988696 0.52171607 0.40153347]\n",
            "  [0.34212049 0.51866977 0.94672436 0.4157339  0.50007504 0.73949713\n",
            "   0.27476745 0.90787711 0.68486009 0.87249102]]\n",
            "\n",
            " [[0.38263274 0.66390852 0.72886837 0.91847995 0.19753467 0.82303335\n",
            "   0.91608561 0.57973097 0.20948073 0.85781269]\n",
            "  [0.09927374 0.46497113 0.76541541 0.56270273 0.03199553 0.80706089\n",
            "   0.27856214 0.51583766 0.71500739 0.59222355]]\n",
            "\n",
            " [[0.09526195 0.10900717 0.096697   0.05285848 0.14438462 0.0955517\n",
            "   0.82050234 0.27739259 0.94427627 0.0668156 ]\n",
            "  [0.8090233  0.80456615 0.3814161  0.64225827 0.87882272 0.69690404\n",
            "   0.36799342 0.63422569 0.46909586 0.8990539 ]]\n",
            "\n",
            " [[0.0800963  0.91131666 0.48150917 0.11427283 0.24676042 0.66758033\n",
            "   0.83399787 0.57706958 0.68452167 0.24375727]\n",
            "  [0.52874128 0.03931914 0.35214022 0.29519992 0.00762721 0.96923937\n",
            "   0.6966486  0.52714512 0.23777168 0.16909009]]\n",
            "\n",
            " [[0.63459362 0.38306738 0.47595908 0.45742912 0.14942627 0.94817755\n",
            "   0.82697412 0.17981282 0.42676854 0.34027118]\n",
            "  [0.77774996 0.99620264 0.24661433 0.53455769 0.73176432 0.65525968\n",
            "   0.82416685 0.60213621 0.62390624 0.150283  ]]]\n"
          ],
          "name": "stdout"
        }
      ]
    },
    {
      "cell_type": "markdown",
      "metadata": {
        "colab_type": "text",
        "id": "xR2zd-nkCani"
      },
      "source": [
        "You have a matrix $X$ of size (10,5) filled with random values. Print the following :\n",
        "* Minimum value and index where it occured, for each column\n",
        "* Maximum value and the index where it occured, for each column\n",
        "* Minimum value and index where it occured, for each row\n",
        "* Maximum value and index where it occured, for each row\n",
        "* Minimum value and index where it occured, for the entire matrix\n",
        "* Maximum value and index where it occured, for the entire matrix"
      ]
    },
    {
      "cell_type": "code",
      "metadata": {
        "colab_type": "code",
        "id": "FR2Wd4fWD_Og",
        "outputId": "f6bb7d27-491a-48df-c7c0-cd71b809905f",
        "colab": {
          "base_uri": "https://localhost:8080/",
          "height": 834
        }
      },
      "source": [
        "X = np.random.rand(10,5)\n",
        "print(X)\n",
        "print(\"min(X[:,0]) = {}\".format((np.min(X[:,0]),np.argmin(X[:,0]))))\n",
        "print(\"min(X[:,1]) = {}\".format((np.min(X[:,1]),np.argmin(X[:,1]))))\n",
        "print(\"min(X[:,2]) = {}\".format((np.min(X[:,2]),np.argmin(X[:,2]))))\n",
        "print(\"min(X[:,3]) = {}\".format((np.min(X[:,3]),np.argmin(X[:,3]))))\n",
        "print(\"min(X[:,4]) = {}\".format((np.min(X[:,4]),np.argmin(X[:,4]))))\n",
        "print(\"##########################################################################\")\n",
        "print(\"max(X[:,0]) = {}\".format((np.max(X[:,0]),np.argmax(X[:,0]))))\n",
        "print(\"max(X[:,1]) = {}\".format((np.max(X[:,1]),np.argmax(X[:,1]))))\n",
        "print(\"max(X[:,2]) = {}\".format((np.max(X[:,2]),np.argmax(X[:,2]))))\n",
        "print(\"max(X[:,3]) = {}\".format((np.max(X[:,3]),np.argmax(X[:,3]))))\n",
        "print(\"max(X[:,4]) = {}\".format((np.max(X[:,4]),np.argmax(X[:,4]))))\n",
        "print(\"##########################################################################\")\n",
        "print(\"min(X[0]) = {}\".format((np.min(X[0]),np.argmin(X[0]))))\n",
        "print(\"min(X[1]) = {}\".format((np.min(X[1]),np.argmin(X[1]))))\n",
        "print(\"min(X[2]) = {}\".format((np.min(X[2]),np.argmin(X[2]))))\n",
        "print(\"min(X[3]) = {}\".format((np.min(X[3]),np.argmin(X[3]))))\n",
        "print(\"min(X[4]) = {}\".format((np.min(X[4]),np.argmin(X[4]))))\n",
        "print(\"min(X[5]) = {}\".format((np.min(X[5]),np.argmin(X[5]))))\n",
        "print(\"min(X[6]) = {}\".format((np.min(X[6]),np.argmin(X[6]))))\n",
        "print(\"min(X[7]) = {}\".format((np.min(X[7]),np.argmin(X[7]))))\n",
        "print(\"min(X[8]) = {}\".format((np.min(X[8]),np.argmin(X[8]))))\n",
        "print(\"min(X[9]) = {}\".format((np.min(X[9]),np.argmin(X[9]))))\n",
        "print(\"##########################################################################\")\n",
        "print(\"max(X[0]) = {}\".format((np.max(X[0]),np.argmax(X[0]))))\n",
        "print(\"max(X[1]) = {}\".format((np.max(X[1]),np.argmax(X[1]))))\n",
        "print(\"max(X[2]) = {}\".format((np.max(X[2]),np.argmax(X[2]))))\n",
        "print(\"max(X[3]) = {}\".format((np.max(X[3]),np.argmax(X[3]))))\n",
        "print(\"max(X[4]) = {}\".format((np.max(X[4]),np.argmax(X[4]))))\n",
        "print(\"max(X[5]) = {}\".format((np.max(X[5]),np.argmax(X[5]))))\n",
        "print(\"max(X[6]) = {}\".format((np.max(X[6]),np.argmax(X[6]))))\n",
        "print(\"max(X[7]) = {}\".format((np.max(X[7]),np.argmax(X[7]))))\n",
        "print(\"max(X[8]) = {}\".format((np.max(X[8]),np.argmax(X[8]))))\n",
        "print(\"max(X[9]) = {}\".format((np.max(X[9]),np.argmax(X[9]))))\n",
        "print(\"##########################################################################\")\n",
        "print(\"min(X) = {}\".format((np.min(X),np.argmin(X))))\n",
        "print(\"max(X) = {}\".format((np.max(X),np.argmax(X))))"
      ],
      "execution_count": 0,
      "outputs": [
        {
          "output_type": "stream",
          "text": [
            "[[0.57657844 0.5539855  0.58390591 0.17248122 0.10714195]\n",
            " [0.60069421 0.8954717  0.92216931 0.15682112 0.8657767 ]\n",
            " [0.58638646 0.65179103 0.79358836 0.0567967  0.6164591 ]\n",
            " [0.59189952 0.30250041 0.89799238 0.56133425 0.5039004 ]\n",
            " [0.22352439 0.25772963 0.94292943 0.04464821 0.89462946]\n",
            " [0.83105729 0.2129242  0.03038621 0.51466002 0.53788482]\n",
            " [0.10605091 0.1306196  0.4371125  0.69831878 0.05521657]\n",
            " [0.61985673 0.65523805 0.69033816 0.69991166 0.26980122]\n",
            " [0.15552688 0.23755225 0.36700699 0.91716587 0.50110027]\n",
            " [0.21639129 0.17161837 0.4224586  0.29384395 0.28169099]]\n",
            "min(X[:,0]) = (0.10605090678188978, 6)\n",
            "min(X[:,1]) = (0.1306196044101171, 6)\n",
            "min(X[:,2]) = (0.03038620922650981, 5)\n",
            "min(X[:,3]) = (0.044648205586091616, 4)\n",
            "min(X[:,4]) = (0.05521657305716887, 6)\n",
            "##########################################################################\n",
            "max(X[:,0]) = (0.8310572906475105, 5)\n",
            "max(X[:,1]) = (0.8954716976147498, 1)\n",
            "max(X[:,2]) = (0.9429294314293845, 4)\n",
            "max(X[:,3]) = (0.9171658650341807, 8)\n",
            "max(X[:,4]) = (0.8946294639192431, 4)\n",
            "##########################################################################\n",
            "min(X[0]) = (0.10714194890883644, 4)\n",
            "min(X[1]) = (0.1568211221299327, 3)\n",
            "min(X[2]) = (0.05679670145449245, 3)\n",
            "min(X[3]) = (0.30250041328139465, 1)\n",
            "min(X[4]) = (0.044648205586091616, 3)\n",
            "min(X[5]) = (0.03038620922650981, 2)\n",
            "min(X[6]) = (0.05521657305716887, 4)\n",
            "min(X[7]) = (0.26980121521906864, 4)\n",
            "min(X[8]) = (0.15552688483861454, 0)\n",
            "min(X[9]) = (0.1716183688862455, 1)\n",
            "##########################################################################\n",
            "max(X[0]) = (0.5839059118935752, 2)\n",
            "max(X[1]) = (0.9221693147539275, 2)\n",
            "max(X[2]) = (0.7935883554356526, 2)\n",
            "max(X[3]) = (0.897992380354587, 2)\n",
            "max(X[4]) = (0.9429294314293845, 2)\n",
            "max(X[5]) = (0.8310572906475105, 0)\n",
            "max(X[6]) = (0.6983187779863443, 3)\n",
            "max(X[7]) = (0.6999116608147504, 3)\n",
            "max(X[8]) = (0.9171658650341807, 3)\n",
            "max(X[9]) = (0.4224585975849714, 2)\n",
            "##########################################################################\n",
            "min(X) = (0.03038620922650981, 27)\n",
            "max(X) = (0.9429294314293845, 22)\n"
          ],
          "name": "stdout"
        }
      ]
    },
    {
      "cell_type": "markdown",
      "metadata": {
        "colab_type": "text",
        "id": "YpjW2ypkEGtS"
      },
      "source": [
        "Find and print the following for the matrix X: \n",
        "* Mean of each row and column\n",
        "* Standard deviation of each row and column\n",
        "* Mean of the entire matrix\n",
        "* Standard deviation of entire matrix"
      ]
    },
    {
      "cell_type": "code",
      "metadata": {
        "colab_type": "code",
        "id": "gMdm2pw0GWjf",
        "outputId": "4ecb9c93-8683-4815-b4c6-2dac77055348",
        "colab": {
          "base_uri": "https://localhost:8080/",
          "height": 443
        }
      },
      "source": [
        "print(\"mean(X[0]),mean(X[:,0]) = {}\".format((np.mean(X[0]),np.mean(X[:,0]))))\n",
        "print(\"mean(X[1]),mean(X[:,1]) = {}\".format((np.mean(X[1]),np.mean(X[:,1]))))\n",
        "print(\"mean(X[2]),mean(X[:,2]) = {}\".format((np.mean(X[2]),np.mean(X[:,2]))))\n",
        "print(\"mean(X[3]),mean(X[:,3]) = {}\".format((np.mean(X[3]),np.mean(X[:,3]))))\n",
        "print(\"mean(X[4]),mean(X[:,4]) = {}\".format((np.mean(X[4]),np.mean(X[:,4]))))\n",
        "print(\"mean(X[5]) = {}\".format(np.mean(X[5])))\n",
        "print(\"mean(X[6]) = {}\".format(np.mean(X[6])))\n",
        "print(\"mean(X[7]) = {}\".format(np.mean(X[7])))\n",
        "print(\"mean(X[8]) = {}\".format(np.mean(X[8])))\n",
        "print(\"mean(X[9]) = {}\".format(np.mean(X[9])))\n",
        "print(\"###############################################\")\n",
        "print(\"std(X[0]),std(X[:,0]) = {}\".format((np.std(X[0]),np.std(X[:,0]))))\n",
        "print(\"std(X[1]),std(X[:,1]) = {}\".format((np.std(X[1]),np.std(X[:,1]))))\n",
        "print(\"std(X[2]),std(X[:,2]) = {}\".format((np.std(X[2]),np.std(X[:,2]))))\n",
        "print(\"std(X[3]),std(X[:,3]) = {}\".format((np.std(X[3]),np.std(X[:,3]))))\n",
        "print(\"std(X[4]),std(X[:,4]) = {}\".format((np.std(X[4]),np.std(X[:,4]))))\n",
        "print(\"std(X[5]) = {}\".format(np.std(X[5])))\n",
        "print(\"std(X[6]) = {}\".format(np.std(X[6])))\n",
        "print(\"std(X[7]) = {}\".format(np.std(X[7])))\n",
        "print(\"std(X[8]) = {}\".format(np.std(X[8])))\n",
        "print(\"std(X[9]) = {}\".format(np.std(X[9])))\n",
        "print(\"###############################################\")\n",
        "print(\"mean(X) = {}\".format(np.mean(X)))\n",
        "print(\"std(X) = {}\".format(np.std(X)))"
      ],
      "execution_count": 0,
      "outputs": [
        {
          "output_type": "stream",
          "text": [
            "mean(X[0]),mean(X[:,0]) = (0.39881860373325234, 0.4507966121929293)\n",
            "mean(X[1]),mean(X[:,1]) = (0.688186608398592, 0.4069430724040325)\n",
            "mean(X[2]),mean(X[:,2]) = (0.5410043298662954, 0.6087887856726868)\n",
            "mean(X[3]),mean(X[:,3]) = (0.5715253917986459, 0.41159817646481944)\n",
            "mean(X[4]),mean(X[:,4]) = (0.4726922233397836, 0.46336014866186037)\n",
            "mean(X[5]) = 0.42538250788557475\n",
            "mean(X[6]) = 0.2854636732033081\n",
            "mean(X[7]) = 0.5870291630386673\n",
            "mean(X[8]) = 0.4356704511324755\n",
            "mean(X[9]) = 0.277200638396062\n",
            "###############################################\n",
            "std(X[0]),std(X[:,0]) = (0.21271413519705812, 0.2371490742550453)\n",
            "std(X[1]),std(X[:,1]) = (0.28957121907684674, 0.24761350503257035)\n",
            "std(X[2]),std(X[:,2]) = (0.25230234650117545, 0.28144556268850085)\n",
            "std(X[3]),std(X[:,3]) = (0.1918578836686538, 0.2916273961482296)\n",
            "std(X[4]),std(X[:,4]) = (0.37166363167464467, 0.27275165902929444)\n",
            "std(X[5]) = 0.2779783742943421\n",
            "std(X[6]) = 0.24601872241035752\n",
            "std(X[7]) = 0.16110796355366166\n",
            "std(X[8]) = 0.2677927582135828\n",
            "std(X[9]) = 0.08513804106661248\n",
            "###############################################\n",
            "mean(X) = 0.4682973590792657\n",
            "std(X) = 0.2768578626935231\n"
          ],
          "name": "stdout"
        }
      ]
    },
    {
      "cell_type": "markdown",
      "metadata": {
        "colab_type": "text",
        "id": "7dw7W8HOGXKA"
      },
      "source": [
        "Let $Y$ denote a square matrix of size 10 with random values. Print the following:\n",
        "* Determinant\n",
        "* Rank of the matrix\n",
        "* Diagonal Elements\n",
        "* Trace\n",
        "* Eigen values\n",
        "* Matrices obtained after Singular Value Decomposition\n",
        "* Inverse if exists, otherwise Pseudo-Inverse\n",
        "* Multiplication $Y$ with $X$\n",
        "* Element-wise multiplication of $Y$ and its inverse(or pseudo-inverse)"
      ]
    },
    {
      "cell_type": "code",
      "metadata": {
        "colab_type": "code",
        "id": "Tswbn9hgL7yi",
        "outputId": "995b2fa0-72d9-42d8-c8cb-32fddf90ac74",
        "colab": {
          "base_uri": "https://localhost:8080/",
          "height": 905
        }
      },
      "source": [
        "Y = np.random.rand(10,10)\n",
        "print(Y)\n",
        "#print(\"det(Y) = {}\".format(np.linalg.det(Y)))\n",
        "#print(\"rank(Y) = {}\".format(np.linalg.matrix_rank(Y)))\n",
        "#print(\"diag(Y) = {}\".format(np.diagonal(Y)))\n",
        "#print(\"trace(Y) = {}\".format(np.trace(Y)))\n",
        "#eigenval,eigenvec = np.linalg.eig(Y)\n",
        "#print(\"eigenval(Y) = {}\".format(eigenval))\n",
        "#print(\"eigenvec(Y) = {}\".format(eigenvec))\n",
        "#print(\"svd(Y) = {}\".format(np.linalg.svd(Y)))\n",
        "#print(\"inv(Y) = {}\".format(np.linalg.inv(Y)))\n",
        "#print(\"pinv(Y) = {}\".format(np.linalg.pinv(Y)))\n",
        "#print(\"np.matmul(Y,X) = {}\".format(np.matmul(Y,X)))\n",
        "print(\"np.dot(Y,np.linalg.pinv(Y)) = {}\".format(np.dot(Y,np.linalg.pinv(Y))))"
      ],
      "execution_count": 0,
      "outputs": [
        {
          "output_type": "stream",
          "text": [
            "[[0.758715   0.1689942  0.08409166 0.35871444 0.3071049  0.9693568\n",
            "  0.31130884 0.77426277 0.99815167 0.02864629]\n",
            " [0.77975528 0.57129894 0.33474708 0.82631308 0.98338571 0.82852003\n",
            "  0.31428723 0.88393347 0.76580933 0.98705775]\n",
            " [0.47257881 0.66575402 0.94918363 0.02302703 0.56917506 0.48872394\n",
            "  0.23248538 0.0549356  0.26860425 0.43260719]\n",
            " [0.08523335 0.76799799 0.97332579 0.87716481 0.97639491 0.32786727\n",
            "  0.16292799 0.92172876 0.11500408 0.03804758]\n",
            " [0.76368488 0.13266259 0.16446641 0.67673607 0.64613716 0.76188525\n",
            "  0.9642096  0.12779441 0.32282059 0.85535796]\n",
            " [0.6448078  0.00743717 0.87423797 0.81045371 0.91183392 0.27337415\n",
            "  0.63083152 0.05963017 0.61967996 0.9936069 ]\n",
            " [0.50279465 0.97987349 0.22961903 0.83392801 0.90727312 0.07433213\n",
            "  0.42205337 0.73699032 0.51278004 0.52512673]\n",
            " [0.17251016 0.61316496 0.54470885 0.185329   0.44404089 0.73275438\n",
            "  0.78679565 0.42622039 0.43248238 0.55857245]\n",
            " [0.31611929 0.42577942 0.38571149 0.98722068 0.86096717 0.45992127\n",
            "  0.61300299 0.44904919 0.51019417 0.77456711]\n",
            " [0.24708875 0.40345127 0.54736829 0.48927428 0.09931469 0.36271544\n",
            "  0.76792304 0.98417227 0.05360384 0.68191142]]\n",
            "np.dot(Y,np.linalg.pinv(Y)) = [[ 1.00000000e+00  7.41504858e-16 -6.93878003e-16  1.00137360e-15\n",
            "  -3.08313795e-15  2.91487589e-17 -7.96387250e-16  2.92028234e-15\n",
            "   1.96297605e-15 -1.01577222e-15]\n",
            " [ 2.37586132e-16  1.00000000e+00  1.54607791e-15  2.55809478e-15\n",
            "   1.47562702e-15 -6.18544831e-16  2.50680888e-15 -2.82282812e-15\n",
            "  -1.89901058e-15  1.26824006e-15]\n",
            " [-2.92321823e-16 -3.78656928e-16  1.00000000e+00  9.63522383e-16\n",
            "   2.03361215e-18 -4.12000127e-16  9.66564615e-16  1.38430570e-16\n",
            "  -8.30892819e-16 -8.93721594e-17]\n",
            " [-6.53309698e-16 -6.83234306e-16  3.13641791e-16  1.00000000e+00\n",
            "  -5.17217363e-16 -9.90334825e-17  1.24694739e-15 -1.79452648e-16\n",
            "  -8.55445985e-16  3.81020716e-16]\n",
            " [-9.46121604e-17 -5.46667489e-16  1.05139904e-15  1.18112563e-15\n",
            "   1.00000000e+00 -5.28891948e-16  1.61161162e-15 -9.92533504e-16\n",
            "  -1.16464527e-15  1.15089183e-15]\n",
            " [-4.46095664e-16  2.73859436e-16 -2.19934506e-16  8.39828195e-16\n",
            "  -2.60016458e-15  1.00000000e+00  7.95369311e-17  2.07653904e-15\n",
            "   1.92131740e-15 -1.00948815e-15]\n",
            " [-1.33252982e-15  1.29406786e-15 -1.46410444e-15  1.59331923e-15\n",
            "  -2.50099203e-15  6.10031431e-16  1.00000000e+00  2.49903747e-15\n",
            "  -2.21231026e-16 -2.92695342e-16]\n",
            " [-6.10259680e-16  6.94035628e-16 -5.06523806e-16  1.37209152e-15\n",
            "  -1.48459382e-15  3.61658575e-16 -1.73664995e-16  1.00000000e+00\n",
            "  -1.25251669e-15 -2.85718198e-16]\n",
            " [-4.69259113e-16 -3.54959705e-16  4.63111000e-17  1.66822467e-15\n",
            "  -1.24608469e-15  1.22605729e-16  5.63027317e-16 -1.16426101e-17\n",
            "   1.00000000e+00  3.77383570e-16]\n",
            " [-1.18877129e-16 -1.95879618e-16 -1.73658788e-16  9.03134582e-16\n",
            "  -7.81852667e-16 -5.92800193e-16  6.16802781e-16  1.90499348e-16\n",
            "   1.98977753e-16  1.00000000e+00]]\n"
          ],
          "name": "stdout"
        }
      ]
    },
    {
      "cell_type": "markdown",
      "metadata": {
        "colab_type": "text",
        "id": "Qne3RnfOL6-4"
      },
      "source": [
        "## End of Part - 1\n",
        " --- --- ---"
      ]
    },
    {
      "cell_type": "markdown",
      "metadata": {
        "colab_type": "text",
        "id": "LA-m4UYkMPTe"
      },
      "source": [
        "## Part - 2\n",
        "---\n",
        "In this part, you will be working with the library ```pandas```. Import this library with an alias name ```pd```."
      ]
    },
    {
      "cell_type": "code",
      "metadata": {
        "colab_type": "code",
        "id": "i8z7TpnZSIms",
        "colab": {}
      },
      "source": [
        "import pandas as pd"
      ],
      "execution_count": 0,
      "outputs": []
    },
    {
      "cell_type": "markdown",
      "metadata": {
        "colab_type": "text",
        "id": "2v-HkHnyuQ3X"
      },
      "source": [
        "Download dataset from: http://biostat.mc.vanderbilt.edu/wiki/pub/Main/DataSets/titanic3.csv\n",
        "Read the data and display the first 5 rows"
      ]
    },
    {
      "cell_type": "code",
      "metadata": {
        "colab_type": "code",
        "id": "LinX5ywNTUIm",
        "outputId": "9a159d98-0705-4991-e841-6fde177c696f",
        "colab": {
          "base_uri": "https://localhost:8080/",
          "height": 397
        }
      },
      "source": [
        "link = \"http://biostat.mc.vanderbilt.edu/wiki/pub/Main/DataSets/titanic3.csv\"\n",
        "\n",
        "data = pd.read_csv(link)\n",
        "data.head()"
      ],
      "execution_count": 0,
      "outputs": [
        {
          "output_type": "execute_result",
          "data": {
            "text/html": [
              "<div>\n",
              "<style scoped>\n",
              "    .dataframe tbody tr th:only-of-type {\n",
              "        vertical-align: middle;\n",
              "    }\n",
              "\n",
              "    .dataframe tbody tr th {\n",
              "        vertical-align: top;\n",
              "    }\n",
              "\n",
              "    .dataframe thead th {\n",
              "        text-align: right;\n",
              "    }\n",
              "</style>\n",
              "<table border=\"1\" class=\"dataframe\">\n",
              "  <thead>\n",
              "    <tr style=\"text-align: right;\">\n",
              "      <th></th>\n",
              "      <th>pclass</th>\n",
              "      <th>survived</th>\n",
              "      <th>name</th>\n",
              "      <th>sex</th>\n",
              "      <th>age</th>\n",
              "      <th>sibsp</th>\n",
              "      <th>parch</th>\n",
              "      <th>ticket</th>\n",
              "      <th>fare</th>\n",
              "      <th>cabin</th>\n",
              "      <th>embarked</th>\n",
              "      <th>boat</th>\n",
              "      <th>body</th>\n",
              "      <th>home.dest</th>\n",
              "    </tr>\n",
              "  </thead>\n",
              "  <tbody>\n",
              "    <tr>\n",
              "      <th>0</th>\n",
              "      <td>1</td>\n",
              "      <td>1</td>\n",
              "      <td>Allen, Miss. Elisabeth Walton</td>\n",
              "      <td>female</td>\n",
              "      <td>29.00</td>\n",
              "      <td>0</td>\n",
              "      <td>0</td>\n",
              "      <td>24160</td>\n",
              "      <td>211.3375</td>\n",
              "      <td>B5</td>\n",
              "      <td>S</td>\n",
              "      <td>2</td>\n",
              "      <td>NaN</td>\n",
              "      <td>St Louis, MO</td>\n",
              "    </tr>\n",
              "    <tr>\n",
              "      <th>1</th>\n",
              "      <td>1</td>\n",
              "      <td>1</td>\n",
              "      <td>Allison, Master. Hudson Trevor</td>\n",
              "      <td>male</td>\n",
              "      <td>0.92</td>\n",
              "      <td>1</td>\n",
              "      <td>2</td>\n",
              "      <td>113781</td>\n",
              "      <td>151.5500</td>\n",
              "      <td>C22 C26</td>\n",
              "      <td>S</td>\n",
              "      <td>11</td>\n",
              "      <td>NaN</td>\n",
              "      <td>Montreal, PQ / Chesterville, ON</td>\n",
              "    </tr>\n",
              "    <tr>\n",
              "      <th>2</th>\n",
              "      <td>1</td>\n",
              "      <td>0</td>\n",
              "      <td>Allison, Miss. Helen Loraine</td>\n",
              "      <td>female</td>\n",
              "      <td>2.00</td>\n",
              "      <td>1</td>\n",
              "      <td>2</td>\n",
              "      <td>113781</td>\n",
              "      <td>151.5500</td>\n",
              "      <td>C22 C26</td>\n",
              "      <td>S</td>\n",
              "      <td>NaN</td>\n",
              "      <td>NaN</td>\n",
              "      <td>Montreal, PQ / Chesterville, ON</td>\n",
              "    </tr>\n",
              "    <tr>\n",
              "      <th>3</th>\n",
              "      <td>1</td>\n",
              "      <td>0</td>\n",
              "      <td>Allison, Mr. Hudson Joshua Creighton</td>\n",
              "      <td>male</td>\n",
              "      <td>30.00</td>\n",
              "      <td>1</td>\n",
              "      <td>2</td>\n",
              "      <td>113781</td>\n",
              "      <td>151.5500</td>\n",
              "      <td>C22 C26</td>\n",
              "      <td>S</td>\n",
              "      <td>NaN</td>\n",
              "      <td>135.0</td>\n",
              "      <td>Montreal, PQ / Chesterville, ON</td>\n",
              "    </tr>\n",
              "    <tr>\n",
              "      <th>4</th>\n",
              "      <td>1</td>\n",
              "      <td>0</td>\n",
              "      <td>Allison, Mrs. Hudson J C (Bessie Waldo Daniels)</td>\n",
              "      <td>female</td>\n",
              "      <td>25.00</td>\n",
              "      <td>1</td>\n",
              "      <td>2</td>\n",
              "      <td>113781</td>\n",
              "      <td>151.5500</td>\n",
              "      <td>C22 C26</td>\n",
              "      <td>S</td>\n",
              "      <td>NaN</td>\n",
              "      <td>NaN</td>\n",
              "      <td>Montreal, PQ / Chesterville, ON</td>\n",
              "    </tr>\n",
              "  </tbody>\n",
              "</table>\n",
              "</div>"
            ],
            "text/plain": [
              "   pclass  survived  ...   body                        home.dest\n",
              "0       1         1  ...    NaN                     St Louis, MO\n",
              "1       1         1  ...    NaN  Montreal, PQ / Chesterville, ON\n",
              "2       1         0  ...    NaN  Montreal, PQ / Chesterville, ON\n",
              "3       1         0  ...  135.0  Montreal, PQ / Chesterville, ON\n",
              "4       1         0  ...    NaN  Montreal, PQ / Chesterville, ON\n",
              "\n",
              "[5 rows x 14 columns]"
            ]
          },
          "metadata": {
            "tags": []
          },
          "execution_count": 39
        }
      ]
    },
    {
      "cell_type": "markdown",
      "metadata": {
        "colab_type": "text",
        "id": "vTk1-mF5WYFN"
      },
      "source": [
        "### Preprocessing of the Dataset"
      ]
    },
    {
      "cell_type": "markdown",
      "metadata": {
        "colab_type": "text",
        "id": "kx9UrI9WWt17"
      },
      "source": [
        "\n",
        "\n",
        "---\n",
        "\n",
        "\n",
        "**1. Convert the categorical values of columns 'sex', 'embarked', 'pclass' into dummy values and add them into titanic_data_new DataFrame**\n",
        "\n",
        "\n",
        "\n",
        "\n",
        "---\n",
        "\n"
      ]
    },
    {
      "cell_type": "code",
      "metadata": {
        "colab_type": "code",
        "id": "AwDh9njbZ0QU",
        "outputId": "74b0b539-180b-4aaa-8900-e446d876c4b2",
        "colab": {
          "base_uri": "https://localhost:8080/",
          "height": 406
        }
      },
      "source": [
        "sex = pd.get_dummies(data.sex)\n",
        "embarked = pd.get_dummies(data.embarked)\n",
        "pclass = pd.get_dummies(data.pclass)\n",
        "titanic_data_new.iloc[0:0]\n",
        "titanic_data_new = pd.concat([sex, embarked, pclass],axis = 1)\n",
        "titanic_data_new"
      ],
      "execution_count": 0,
      "outputs": [
        {
          "output_type": "execute_result",
          "data": {
            "text/html": [
              "<div>\n",
              "<style scoped>\n",
              "    .dataframe tbody tr th:only-of-type {\n",
              "        vertical-align: middle;\n",
              "    }\n",
              "\n",
              "    .dataframe tbody tr th {\n",
              "        vertical-align: top;\n",
              "    }\n",
              "\n",
              "    .dataframe thead th {\n",
              "        text-align: right;\n",
              "    }\n",
              "</style>\n",
              "<table border=\"1\" class=\"dataframe\">\n",
              "  <thead>\n",
              "    <tr style=\"text-align: right;\">\n",
              "      <th></th>\n",
              "      <th>female</th>\n",
              "      <th>male</th>\n",
              "      <th>C</th>\n",
              "      <th>Q</th>\n",
              "      <th>S</th>\n",
              "      <th>1</th>\n",
              "      <th>2</th>\n",
              "      <th>3</th>\n",
              "    </tr>\n",
              "  </thead>\n",
              "  <tbody>\n",
              "    <tr>\n",
              "      <th>0</th>\n",
              "      <td>1</td>\n",
              "      <td>0</td>\n",
              "      <td>0</td>\n",
              "      <td>0</td>\n",
              "      <td>1</td>\n",
              "      <td>1</td>\n",
              "      <td>0</td>\n",
              "      <td>0</td>\n",
              "    </tr>\n",
              "    <tr>\n",
              "      <th>1</th>\n",
              "      <td>0</td>\n",
              "      <td>1</td>\n",
              "      <td>0</td>\n",
              "      <td>0</td>\n",
              "      <td>1</td>\n",
              "      <td>1</td>\n",
              "      <td>0</td>\n",
              "      <td>0</td>\n",
              "    </tr>\n",
              "    <tr>\n",
              "      <th>2</th>\n",
              "      <td>1</td>\n",
              "      <td>0</td>\n",
              "      <td>0</td>\n",
              "      <td>0</td>\n",
              "      <td>1</td>\n",
              "      <td>1</td>\n",
              "      <td>0</td>\n",
              "      <td>0</td>\n",
              "    </tr>\n",
              "    <tr>\n",
              "      <th>3</th>\n",
              "      <td>0</td>\n",
              "      <td>1</td>\n",
              "      <td>0</td>\n",
              "      <td>0</td>\n",
              "      <td>1</td>\n",
              "      <td>1</td>\n",
              "      <td>0</td>\n",
              "      <td>0</td>\n",
              "    </tr>\n",
              "    <tr>\n",
              "      <th>4</th>\n",
              "      <td>1</td>\n",
              "      <td>0</td>\n",
              "      <td>0</td>\n",
              "      <td>0</td>\n",
              "      <td>1</td>\n",
              "      <td>1</td>\n",
              "      <td>0</td>\n",
              "      <td>0</td>\n",
              "    </tr>\n",
              "    <tr>\n",
              "      <th>...</th>\n",
              "      <td>...</td>\n",
              "      <td>...</td>\n",
              "      <td>...</td>\n",
              "      <td>...</td>\n",
              "      <td>...</td>\n",
              "      <td>...</td>\n",
              "      <td>...</td>\n",
              "      <td>...</td>\n",
              "    </tr>\n",
              "    <tr>\n",
              "      <th>1304</th>\n",
              "      <td>1</td>\n",
              "      <td>0</td>\n",
              "      <td>1</td>\n",
              "      <td>0</td>\n",
              "      <td>0</td>\n",
              "      <td>0</td>\n",
              "      <td>0</td>\n",
              "      <td>1</td>\n",
              "    </tr>\n",
              "    <tr>\n",
              "      <th>1305</th>\n",
              "      <td>1</td>\n",
              "      <td>0</td>\n",
              "      <td>1</td>\n",
              "      <td>0</td>\n",
              "      <td>0</td>\n",
              "      <td>0</td>\n",
              "      <td>0</td>\n",
              "      <td>1</td>\n",
              "    </tr>\n",
              "    <tr>\n",
              "      <th>1306</th>\n",
              "      <td>0</td>\n",
              "      <td>1</td>\n",
              "      <td>1</td>\n",
              "      <td>0</td>\n",
              "      <td>0</td>\n",
              "      <td>0</td>\n",
              "      <td>0</td>\n",
              "      <td>1</td>\n",
              "    </tr>\n",
              "    <tr>\n",
              "      <th>1307</th>\n",
              "      <td>0</td>\n",
              "      <td>1</td>\n",
              "      <td>1</td>\n",
              "      <td>0</td>\n",
              "      <td>0</td>\n",
              "      <td>0</td>\n",
              "      <td>0</td>\n",
              "      <td>1</td>\n",
              "    </tr>\n",
              "    <tr>\n",
              "      <th>1308</th>\n",
              "      <td>0</td>\n",
              "      <td>1</td>\n",
              "      <td>0</td>\n",
              "      <td>0</td>\n",
              "      <td>1</td>\n",
              "      <td>0</td>\n",
              "      <td>0</td>\n",
              "      <td>1</td>\n",
              "    </tr>\n",
              "  </tbody>\n",
              "</table>\n",
              "<p>1309 rows × 8 columns</p>\n",
              "</div>"
            ],
            "text/plain": [
              "      female  male  C  Q  S  1  2  3\n",
              "0          1     0  0  0  1  1  0  0\n",
              "1          0     1  0  0  1  1  0  0\n",
              "2          1     0  0  0  1  1  0  0\n",
              "3          0     1  0  0  1  1  0  0\n",
              "4          1     0  0  0  1  1  0  0\n",
              "...      ...   ... .. .. .. .. .. ..\n",
              "1304       1     0  1  0  0  0  0  1\n",
              "1305       1     0  1  0  0  0  0  1\n",
              "1306       0     1  1  0  0  0  0  1\n",
              "1307       0     1  1  0  0  0  0  1\n",
              "1308       0     1  0  0  1  0  0  1\n",
              "\n",
              "[1309 rows x 8 columns]"
            ]
          },
          "metadata": {
            "tags": []
          },
          "execution_count": 102
        }
      ]
    },
    {
      "cell_type": "markdown",
      "metadata": {
        "colab_type": "text",
        "id": "Z9bxOfzDbY-n"
      },
      "source": [
        "\n",
        "\n",
        "---\n",
        "\n",
        "\n",
        "**2. Fill the missing data in Age and Fare columns with the mean value of the respected column then add these columns to titanic_data_new**\n",
        "\n",
        "\n",
        "---\n",
        "\n"
      ]
    },
    {
      "cell_type": "code",
      "metadata": {
        "colab_type": "code",
        "id": "DNx7Pr0ehhAs",
        "outputId": "c5664793-df13-455f-abc7-6a63fd272b48",
        "colab": {
          "base_uri": "https://localhost:8080/",
          "height": 233
        }
      },
      "source": [
        "age_mean = data.age.mean()\n",
        "print(age_mean)\n",
        "fare_mean = data.fare.mean()\n",
        "print(fare_mean)\n",
        "\n",
        "age = data['age'].fillna(age_mean)\n",
        "fare = data['fare'].fillna(fare_mean)\n",
        "\n",
        "tdn = pd.concat([titanic_data_new,age,fare],axis = 1)\n",
        "titanic_data_new = tdn\n",
        "titanic_data_new.head()"
      ],
      "execution_count": 0,
      "outputs": [
        {
          "output_type": "stream",
          "text": [
            "29.881137667304014\n",
            "33.29547928134572\n"
          ],
          "name": "stdout"
        },
        {
          "output_type": "execute_result",
          "data": {
            "text/html": [
              "<div>\n",
              "<style scoped>\n",
              "    .dataframe tbody tr th:only-of-type {\n",
              "        vertical-align: middle;\n",
              "    }\n",
              "\n",
              "    .dataframe tbody tr th {\n",
              "        vertical-align: top;\n",
              "    }\n",
              "\n",
              "    .dataframe thead th {\n",
              "        text-align: right;\n",
              "    }\n",
              "</style>\n",
              "<table border=\"1\" class=\"dataframe\">\n",
              "  <thead>\n",
              "    <tr style=\"text-align: right;\">\n",
              "      <th></th>\n",
              "      <th>female</th>\n",
              "      <th>male</th>\n",
              "      <th>C</th>\n",
              "      <th>Q</th>\n",
              "      <th>S</th>\n",
              "      <th>1</th>\n",
              "      <th>2</th>\n",
              "      <th>3</th>\n",
              "      <th>age</th>\n",
              "      <th>fare</th>\n",
              "    </tr>\n",
              "  </thead>\n",
              "  <tbody>\n",
              "    <tr>\n",
              "      <th>0</th>\n",
              "      <td>1</td>\n",
              "      <td>0</td>\n",
              "      <td>0</td>\n",
              "      <td>0</td>\n",
              "      <td>1</td>\n",
              "      <td>1</td>\n",
              "      <td>0</td>\n",
              "      <td>0</td>\n",
              "      <td>29.00</td>\n",
              "      <td>211.3375</td>\n",
              "    </tr>\n",
              "    <tr>\n",
              "      <th>1</th>\n",
              "      <td>0</td>\n",
              "      <td>1</td>\n",
              "      <td>0</td>\n",
              "      <td>0</td>\n",
              "      <td>1</td>\n",
              "      <td>1</td>\n",
              "      <td>0</td>\n",
              "      <td>0</td>\n",
              "      <td>0.92</td>\n",
              "      <td>151.5500</td>\n",
              "    </tr>\n",
              "    <tr>\n",
              "      <th>2</th>\n",
              "      <td>1</td>\n",
              "      <td>0</td>\n",
              "      <td>0</td>\n",
              "      <td>0</td>\n",
              "      <td>1</td>\n",
              "      <td>1</td>\n",
              "      <td>0</td>\n",
              "      <td>0</td>\n",
              "      <td>2.00</td>\n",
              "      <td>151.5500</td>\n",
              "    </tr>\n",
              "    <tr>\n",
              "      <th>3</th>\n",
              "      <td>0</td>\n",
              "      <td>1</td>\n",
              "      <td>0</td>\n",
              "      <td>0</td>\n",
              "      <td>1</td>\n",
              "      <td>1</td>\n",
              "      <td>0</td>\n",
              "      <td>0</td>\n",
              "      <td>30.00</td>\n",
              "      <td>151.5500</td>\n",
              "    </tr>\n",
              "    <tr>\n",
              "      <th>4</th>\n",
              "      <td>1</td>\n",
              "      <td>0</td>\n",
              "      <td>0</td>\n",
              "      <td>0</td>\n",
              "      <td>1</td>\n",
              "      <td>1</td>\n",
              "      <td>0</td>\n",
              "      <td>0</td>\n",
              "      <td>25.00</td>\n",
              "      <td>151.5500</td>\n",
              "    </tr>\n",
              "  </tbody>\n",
              "</table>\n",
              "</div>"
            ],
            "text/plain": [
              "   female  male  C  Q  S  1  2  3    age      fare\n",
              "0       1     0  0  0  1  1  0  0  29.00  211.3375\n",
              "1       0     1  0  0  1  1  0  0   0.92  151.5500\n",
              "2       1     0  0  0  1  1  0  0   2.00  151.5500\n",
              "3       0     1  0  0  1  1  0  0  30.00  151.5500\n",
              "4       1     0  0  0  1  1  0  0  25.00  151.5500"
            ]
          },
          "metadata": {
            "tags": []
          },
          "execution_count": 103
        }
      ]
    },
    {
      "cell_type": "markdown",
      "metadata": {
        "colab_type": "text",
        "id": "SlRzKfhxkd1M"
      },
      "source": [
        "###Normalization\n",
        "\n",
        "\n",
        "---\n",
        "\n",
        "\n",
        "\n",
        "1. Normalize the columns which have numerical data\n",
        "\n",
        "\n",
        "\n",
        "---\n",
        "\n"
      ]
    },
    {
      "cell_type": "code",
      "metadata": {
        "colab_type": "code",
        "id": "Y3hpu92TlM38",
        "outputId": "033f81d0-51bf-47cd-e1ab-dc50b7cfb1cc",
        "colab": {
          "base_uri": "https://localhost:8080/",
          "height": 123
        }
      },
      "source": [
        "age = (age - age_mean)/age.std()\n",
        "fare = (fare - fare_mean)/fare.std()\n",
        "fare.head()"
      ],
      "execution_count": 0,
      "outputs": [
        {
          "output_type": "execute_result",
          "data": {
            "text/plain": [
              "0    3.441165\n",
              "1    2.285603\n",
              "2    2.285603\n",
              "3    2.285603\n",
              "4    2.285603\n",
              "Name: fare, dtype: float64"
            ]
          },
          "metadata": {
            "tags": []
          },
          "execution_count": 104
        }
      ]
    },
    {
      "cell_type": "markdown",
      "metadata": {
        "colab_type": "text",
        "id": "wB9-5x83mFAO"
      },
      "source": [
        "\n",
        "\n",
        "---\n",
        "2. Drop the original age, fare columns\n",
        "3. Append the normalized columns to the titanic_data_new DataFrame.\n",
        "\n",
        "\n",
        "\n",
        "---\n",
        "\n"
      ]
    },
    {
      "cell_type": "code",
      "metadata": {
        "colab_type": "code",
        "id": "Kb00kM0onQJy",
        "outputId": "ed3859eb-2224-45d3-c4fc-d565a0a8b6e3",
        "colab": {
          "base_uri": "https://localhost:8080/",
          "height": 197
        }
      },
      "source": [
        "titanic_data_new = titanic_data_new.drop(columns = ['age','fare'])\n",
        "titanic_data_new = pd.concat([titanic_data_new,age,fare],axis = 1)\n",
        "titanic_data_new.head()"
      ],
      "execution_count": 0,
      "outputs": [
        {
          "output_type": "execute_result",
          "data": {
            "text/html": [
              "<div>\n",
              "<style scoped>\n",
              "    .dataframe tbody tr th:only-of-type {\n",
              "        vertical-align: middle;\n",
              "    }\n",
              "\n",
              "    .dataframe tbody tr th {\n",
              "        vertical-align: top;\n",
              "    }\n",
              "\n",
              "    .dataframe thead th {\n",
              "        text-align: right;\n",
              "    }\n",
              "</style>\n",
              "<table border=\"1\" class=\"dataframe\">\n",
              "  <thead>\n",
              "    <tr style=\"text-align: right;\">\n",
              "      <th></th>\n",
              "      <th>female</th>\n",
              "      <th>male</th>\n",
              "      <th>C</th>\n",
              "      <th>Q</th>\n",
              "      <th>S</th>\n",
              "      <th>1</th>\n",
              "      <th>2</th>\n",
              "      <th>3</th>\n",
              "      <th>age</th>\n",
              "      <th>fare</th>\n",
              "    </tr>\n",
              "  </thead>\n",
              "  <tbody>\n",
              "    <tr>\n",
              "      <th>0</th>\n",
              "      <td>1</td>\n",
              "      <td>0</td>\n",
              "      <td>0</td>\n",
              "      <td>0</td>\n",
              "      <td>1</td>\n",
              "      <td>1</td>\n",
              "      <td>0</td>\n",
              "      <td>0</td>\n",
              "      <td>-0.068394</td>\n",
              "      <td>3.441165</td>\n",
              "    </tr>\n",
              "    <tr>\n",
              "      <th>1</th>\n",
              "      <td>0</td>\n",
              "      <td>1</td>\n",
              "      <td>0</td>\n",
              "      <td>0</td>\n",
              "      <td>1</td>\n",
              "      <td>1</td>\n",
              "      <td>0</td>\n",
              "      <td>0</td>\n",
              "      <td>-2.247978</td>\n",
              "      <td>2.285603</td>\n",
              "    </tr>\n",
              "    <tr>\n",
              "      <th>2</th>\n",
              "      <td>1</td>\n",
              "      <td>0</td>\n",
              "      <td>0</td>\n",
              "      <td>0</td>\n",
              "      <td>1</td>\n",
              "      <td>1</td>\n",
              "      <td>0</td>\n",
              "      <td>0</td>\n",
              "      <td>-2.164148</td>\n",
              "      <td>2.285603</td>\n",
              "    </tr>\n",
              "    <tr>\n",
              "      <th>3</th>\n",
              "      <td>0</td>\n",
              "      <td>1</td>\n",
              "      <td>0</td>\n",
              "      <td>0</td>\n",
              "      <td>1</td>\n",
              "      <td>1</td>\n",
              "      <td>0</td>\n",
              "      <td>0</td>\n",
              "      <td>0.009226</td>\n",
              "      <td>2.285603</td>\n",
              "    </tr>\n",
              "    <tr>\n",
              "      <th>4</th>\n",
              "      <td>1</td>\n",
              "      <td>0</td>\n",
              "      <td>0</td>\n",
              "      <td>0</td>\n",
              "      <td>1</td>\n",
              "      <td>1</td>\n",
              "      <td>0</td>\n",
              "      <td>0</td>\n",
              "      <td>-0.378876</td>\n",
              "      <td>2.285603</td>\n",
              "    </tr>\n",
              "  </tbody>\n",
              "</table>\n",
              "</div>"
            ],
            "text/plain": [
              "   female  male  C  Q  S  1  2  3       age      fare\n",
              "0       1     0  0  0  1  1  0  0 -0.068394  3.441165\n",
              "1       0     1  0  0  1  1  0  0 -2.247978  2.285603\n",
              "2       1     0  0  0  1  1  0  0 -2.164148  2.285603\n",
              "3       0     1  0  0  1  1  0  0  0.009226  2.285603\n",
              "4       1     0  0  0  1  1  0  0 -0.378876  2.285603"
            ]
          },
          "metadata": {
            "tags": []
          },
          "execution_count": 105
        }
      ]
    },
    {
      "cell_type": "markdown",
      "metadata": {
        "colab_type": "text",
        "id": "uLxN3PozntKe"
      },
      "source": [
        "###Plotting\n",
        "1. plot the age against the ID(continuous)\n",
        "2. plot the fare against the ID(scatter)"
      ]
    },
    {
      "cell_type": "code",
      "metadata": {
        "colab_type": "code",
        "id": "qOXm235ETpPX",
        "outputId": "f53054b7-428f-4411-8910-c71ff0bbce36",
        "colab": {
          "base_uri": "https://localhost:8080/",
          "height": 282
        }
      },
      "source": [
        "titanic_data_new.age.plot()"
      ],
      "execution_count": 0,
      "outputs": [
        {
          "output_type": "execute_result",
          "data": {
            "text/plain": [
              "<matplotlib.axes._subplots.AxesSubplot at 0x7fd169b23518>"
            ]
          },
          "metadata": {
            "tags": []
          },
          "execution_count": 106
        },
        {
          "output_type": "display_data",
          "data": {
            "image/png": "[encoded data removed]",
            "text/plain": [
              "<Figure size 432x288 with 1 Axes>"
            ]
          },
          "metadata": {
            "tags": [],
            "needs_background": "light"
          }
        }
      ]
    },
    {
      "cell_type": "code",
      "metadata": {
        "colab_type": "code",
        "id": "LdSfNEKYn_RO",
        "outputId": "5f8c0046-bb56-4a3d-8cdf-d7d684075c06",
        "colab": {
          "base_uri": "https://localhost:8080/",
          "height": 230
        }
      },
      "source": [
        "titanic_data_new['Index'] = titanic_data_new.index\n",
        "titanic_data_new['Index']"
      ],
      "execution_count": 111,
      "outputs": [
        {
          "output_type": "execute_result",
          "data": {
            "text/plain": [
              "0          0\n",
              "1          1\n",
              "2          2\n",
              "3          3\n",
              "4          4\n",
              "        ... \n",
              "1304    1304\n",
              "1305    1305\n",
              "1306    1306\n",
              "1307    1307\n",
              "1308    1308\n",
              "Name: Index, Length: 1309, dtype: int64"
            ]
          },
          "metadata": {
            "tags": []
          },
          "execution_count": 111
        }
      ]
    },
    {
      "cell_type": "code",
      "metadata": {
        "id": "KXPzJrGq6hPm",
        "colab_type": "code",
        "colab": {
          "base_uri": "https://localhost:8080/",
          "height": 296
        },
        "outputId": "dd2815d8-0d09-4bb4-c749-f8492ab8f3d9"
      },
      "source": [
        "titanic_data_new.plot.scatter(x='Index',y='fare')"
      ],
      "execution_count": 112,
      "outputs": [
        {
          "output_type": "execute_result",
          "data": {
            "text/plain": [
              "<matplotlib.axes._subplots.AxesSubplot at 0x7fd1699e5ef0>"
            ]
          },
          "metadata": {
            "tags": []
          },
          "execution_count": 112
        },
        {
          "output_type": "display_data",
          "data": {
            "image/png": "[encoded data removed]",
            "text/plain": [
              "<Figure size 432x288 with 1 Axes>"
            ]
          },
          "metadata": {
            "tags": [],
            "needs_background": "light"
          }
        }
      ]
    },
    {
      "cell_type": "markdown",
      "metadata": {
        "colab_type": "text",
        "id": "LQr7y6eevTvy"
      },
      "source": [
        "## End of Part - 2\n",
        "---"
      ]
    },
    {
      "cell_type": "markdown",
      "metadata": {
        "colab_type": "text",
        "id": "TWhZcKvfvW2B"
      },
      "source": [
        "## Part - 3\n",
        "---"
      ]
    },
    {
      "cell_type": "markdown",
      "metadata": {
        "colab_type": "text",
        "id": "8bY4H9DszQ2S"
      },
      "source": [
        "In this part, you will work with the library ```matplotlib```. Import the ```pyplot``` from ```matplotlib``` with an alias name ```plt```."
      ]
    },
    {
      "cell_type": "code",
      "metadata": {
        "colab_type": "code",
        "id": "hPN6qctRzknT",
        "colab": {}
      },
      "source": [
        "from matplotlib import pyplot as plt"
      ],
      "execution_count": 0,
      "outputs": []
    },
    {
      "cell_type": "markdown",
      "metadata": {
        "colab_type": "text",
        "id": "fQ6KX_Aezlub"
      },
      "source": [
        "Plot the sine function with domain in $[-3\\pi,3\\pi]$. Label the axes appropriately. Add title $\\sin(x)$. Use latex formatting while adding the title. Set the plot size to (10,10)"
      ]
    },
    {
      "cell_type": "code",
      "metadata": {
        "colab_type": "code",
        "id": "0tA3J5mA1cQ0",
        "colab": {
          "base_uri": "https://localhost:8080/",
          "height": 264
        },
        "outputId": "da5eadec-f702-425e-afbe-46c3de1896da"
      },
      "source": [
        "ntrvl = np.linspace(-3*(np.pi),3*(np.pi),300)\n",
        "fx = np.sin(ntrvl)\n",
        "\n",
        "plt.plot(ntrvl,fx)\n",
        "plt.show()"
      ],
      "execution_count": 114,
      "outputs": [
        {
          "output_type": "display_data",
          "data": {
            "image/png": "[encoded data removed]",
            "text/plain": [
              "<Figure size 432x288 with 1 Axes>"
            ]
          },
          "metadata": {
            "tags": [],
            "needs_background": "light"
          }
        }
      ]
    },
    {
      "cell_type": "markdown",
      "metadata": {
        "colab_type": "text",
        "id": "6KV7RqMm1d8P"
      },
      "source": [
        "Plot $\\sin(x)$ and its spectrum, $\\cos(x)$ and its spectrum in a single plot, in the domain $[-2\\pi,2\\pi]$. Label the plot appropriately."
      ]
    },
    {
      "cell_type": "code",
      "metadata": {
        "colab_type": "code",
        "id": "-OJuY0HO12Oo",
        "colab": {
          "base_uri": "https://localhost:8080/",
          "height": 712
        },
        "outputId": "7aaacc83-9cdd-404b-b85e-a7758050ebcf"
      },
      "source": [
        "interval = np.linspace(-2*(np.pi),2*(np.pi),300)\n",
        "g1x = np.sin(interval)\n",
        "sin_spec = np.fft.fft(g1x)\n",
        "\n",
        "freq = np.fft.fftfreq(300,d=0.1)\n",
        "\n",
        "plt.figure(1,figsize=(10,5))\n",
        "plt.subplot(1,2,1)\n",
        "plt.plot(interval,g1x)\n",
        "plt.subplot(1,2,2)\n",
        "plt.plot(freq,sin_spec)\n",
        "\n",
        "g2x = np.cos(interval)\n",
        "cos_spec = np.fft.fft(g2x)\n",
        "\n",
        "plt.figure(2,figsize=(10,5))\n",
        "plt.subplot(1,2,1)\n",
        "plt.plot(interval,g2x)\n",
        "plt.subplot(1,2,2)\n",
        "plt.plot(freq,cos_spec)"
      ],
      "execution_count": 124,
      "outputs": [
        {
          "output_type": "stream",
          "text": [
            "/usr/local/lib/python3.6/dist-packages/numpy/core/_asarray.py:85: ComplexWarning: Casting complex values to real discards the imaginary part\n",
            "  return array(a, dtype, copy=False, order=order)\n",
            "/usr/local/lib/python3.6/dist-packages/numpy/core/_asarray.py:85: ComplexWarning: Casting complex values to real discards the imaginary part\n",
            "  return array(a, dtype, copy=False, order=order)\n"
          ],
          "name": "stderr"
        },
        {
          "output_type": "execute_result",
          "data": {
            "text/plain": [
              "[<matplotlib.lines.Line2D at 0x7fd169145438>]"
            ]
          },
          "metadata": {
            "tags": []
          },
          "execution_count": 124
        },
        {
          "output_type": "display_data",
          "data": {
            "image/png": "[encoded data removed]",
            "text/plain": [
              "<Figure size 720x360 with 2 Axes>"
            ]
          },
          "metadata": {
            "tags": [],
            "needs_background": "light"
          }
        },
        {
          "output_type": "display_data",
          "data": {
            "image/png": "[encoded data removed]",
            "text/plain": [
              "<Figure size 720x360 with 2 Axes>"
            ]
          },
          "metadata": {
            "tags": [],
            "needs_background": "light"
          }
        }
      ]
    },
    {
      "cell_type": "markdown",
      "metadata": {
        "colab_type": "text",
        "id": "1S6ZRm6B18ZF"
      },
      "source": [
        "## End of Part - 3\n",
        "---"
      ]
    },
    {
      "cell_type": "markdown",
      "metadata": {
        "colab_type": "text",
        "id": "MUucpzXBl096"
      },
      "source": [
        "Create a Github repository with the name ***SHALA2020*** and save this assignment there."
      ]
    }
  ]
}
