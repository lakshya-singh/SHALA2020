{
  "nbformat": 4,
  "nbformat_minor": 0,
  "metadata": {
    "colab": {
      "name": "ds_l2.ipynb",
      "provenance": [],
      "collapsed_sections": [],
      "toc_visible": true
    },
    "kernelspec": {
      "name": "python3",
      "display_name": "Python 3"
    }
  },
  "cells": [
    {
      "cell_type": "markdown",
      "metadata": {
        "id": "1X6ddOR8HFsX",
        "colab_type": "text"
      },
      "source": [
        "\n",
        "# **Assignment - 2: Basic Data Understanding**\n",
        "\n",
        "---\n",
        "\n",
        "This assignment will get you familiarized with Python libraries and  functions required for data visualization."
      ]
    },
    {
      "cell_type": "markdown",
      "metadata": {
        "id": "XRd4EfXN5fQb",
        "colab_type": "text"
      },
      "source": [
        "---\n",
        "## Part 1 - Loading data \n",
        "---"
      ]
    },
    {
      "cell_type": "markdown",
      "metadata": {
        "id": "Q7W6I-fVIoqp",
        "colab_type": "text"
      },
      "source": [
        "###Import the following libraries:  \n",
        "\n",
        "* ```numpy``` with an alias name ```np```, \n",
        "* ```pandas``` with an alias name ```pd```, \n",
        "* ```matplotlib.pyplot``` with an alias name ```plt```, and \n",
        "* ```seaborn``` with an alias name ```sns```. "
      ]
    },
    {
      "cell_type": "code",
      "metadata": {
        "id": "NihF3MwIGI4m",
        "colab_type": "code",
        "colab": {
          "base_uri": "https://localhost:8080/",
          "height": 72
        },
        "outputId": "2104f773-483b-4416-a94c-fbe369efd2a9"
      },
      "source": [
        "# Load the four libraries with their aliases \n",
        "import numpy as np\n",
        "import pandas as pd\n",
        "import matplotlib.pyplot as plt\n",
        "import seaborn as sns"
      ],
      "execution_count": 2,
      "outputs": [
        {
          "output_type": "stream",
          "text": [
            "/usr/local/lib/python3.6/dist-packages/statsmodels/tools/_testing.py:19: FutureWarning: pandas.util.testing is deprecated. Use the functions in the public API at pandas.testing instead.\n",
            "  import pandas.util.testing as tm\n"
          ],
          "name": "stderr"
        }
      ]
    },
    {
      "cell_type": "markdown",
      "metadata": {
        "id": "dsLj-TSQJgMb",
        "colab_type": "text"
      },
      "source": [
        "### Using the files ```train.csv``` and ```moviesData.csv```,  peform the following:\n",
        "\n",
        "* Load these file as ```pandas``` dataframes and store it in variables named ```df``` and ```movies``` respectively. \n",
        "* Print the first ten rows of ```df```. \n",
        "\n"
      ]
    },
    {
      "cell_type": "code",
      "metadata": {
        "id": "MUtcHJDaaWv3",
        "colab_type": "code",
        "outputId": "16f50fca-2419-4a46-e93b-d5eb6660b9b5",
        "colab": {
          "base_uri": "https://localhost:8080/",
          "height": 125
        }
      },
      "source": [
        "from google.colab import drive\n",
        "drive.mount('/content/drive')"
      ],
      "execution_count": 3,
      "outputs": [
        {
          "output_type": "stream",
          "text": [
            "Go to this URL in a browser: https://accounts.google.com/o/oauth2/auth?client_id=947318989803-6bn6qk8qdgf4n4g3pfee6491hc0brc4i.apps.googleusercontent.com&redirect_uri=urn%3aietf%3awg%3aoauth%3a2.0%3aoob&response_type=code&scope=email%20https%3a%2f%2fwww.googleapis.com%2fauth%2fdocs.test%20https%3a%2f%2fwww.googleapis.com%2fauth%2fdrive%20https%3a%2f%2fwww.googleapis.com%2fauth%2fdrive.photos.readonly%20https%3a%2f%2fwww.googleapis.com%2fauth%2fpeopleapi.readonly\n",
            "\n",
            "Enter your authorization code:\n",
            "··········\n",
            "Mounted at /content/drive\n"
          ],
          "name": "stdout"
        }
      ]
    },
    {
      "cell_type": "code",
      "metadata": {
        "id": "A1yZmpLtai2S",
        "colab_type": "code",
        "outputId": "fe178848-b9b8-4ba1-cb5f-3d4b0af9cb22",
        "colab": {
          "base_uri": "https://localhost:8080/",
          "height": 34
        }
      },
      "source": [
        "%cd .."
      ],
      "execution_count": 0,
      "outputs": [
        {
          "output_type": "stream",
          "text": [
            "/content/drive/My Drive/DS\n"
          ],
          "name": "stdout"
        }
      ]
    },
    {
      "cell_type": "code",
      "metadata": {
        "id": "3AjvT40AGIq6",
        "colab_type": "code",
        "colab": {}
      },
      "source": [
        "# Load the file as a dataframe \n",
        "df = pd.read_csv('/content/drive/My Drive/DS/ds_l2/train.csv')"
      ],
      "execution_count": 0,
      "outputs": []
    },
    {
      "cell_type": "code",
      "metadata": {
        "id": "27f1WO1NzHri",
        "colab_type": "code",
        "colab": {}
      },
      "source": [
        "movies = pd.read_csv('/content/drive/My Drive/DS/ds_l2/movies.csv')"
      ],
      "execution_count": 0,
      "outputs": []
    },
    {
      "cell_type": "code",
      "metadata": {
        "id": "7eCo7WlMGMkn",
        "colab_type": "code",
        "outputId": "a4676cf1-3aa7-46fc-ced1-37a15860f213",
        "colab": {
          "base_uri": "https://localhost:8080/",
          "height": 534
        }
      },
      "source": [
        "# Print the first ten rows of df\n",
        "#pd.set_option('display.max_rows',None)\n",
        "#df.head(n=10)\n",
        "df.iloc[0:10]"
      ],
      "execution_count": 6,
      "outputs": [
        {
          "output_type": "execute_result",
          "data": {
            "text/html": [
              "<div>\n",
              "<style scoped>\n",
              "    .dataframe tbody tr th:only-of-type {\n",
              "        vertical-align: middle;\n",
              "    }\n",
              "\n",
              "    .dataframe tbody tr th {\n",
              "        vertical-align: top;\n",
              "    }\n",
              "\n",
              "    .dataframe thead th {\n",
              "        text-align: right;\n",
              "    }\n",
              "</style>\n",
              "<table border=\"1\" class=\"dataframe\">\n",
              "  <thead>\n",
              "    <tr style=\"text-align: right;\">\n",
              "      <th></th>\n",
              "      <th>Age</th>\n",
              "      <th>Attrition</th>\n",
              "      <th>BusinessTravel</th>\n",
              "      <th>DailyRate</th>\n",
              "      <th>Department</th>\n",
              "      <th>DistanceFromHome</th>\n",
              "      <th>Education</th>\n",
              "      <th>EducationField</th>\n",
              "      <th>EmployeeCount</th>\n",
              "      <th>EmployeeNumber</th>\n",
              "      <th>EnvironmentSatisfaction</th>\n",
              "      <th>Gender</th>\n",
              "      <th>HourlyRate</th>\n",
              "      <th>JobInvolvement</th>\n",
              "      <th>JobLevel</th>\n",
              "      <th>JobRole</th>\n",
              "      <th>JobSatisfaction</th>\n",
              "      <th>MaritalStatus</th>\n",
              "      <th>MonthlyIncome</th>\n",
              "      <th>MonthlyRate</th>\n",
              "      <th>NumCompaniesWorked</th>\n",
              "      <th>OverTime</th>\n",
              "      <th>PercentSalaryHike</th>\n",
              "      <th>PerformanceRating</th>\n",
              "      <th>RelationshipSatisfaction</th>\n",
              "      <th>StockOptionLevel</th>\n",
              "      <th>TotalWorkingYears</th>\n",
              "      <th>TrainingTimesLastYear</th>\n",
              "      <th>WorkLifeBalance</th>\n",
              "      <th>YearsAtCompany</th>\n",
              "      <th>YearsInCurrentRole</th>\n",
              "      <th>YearsSinceLastPromotion</th>\n",
              "      <th>YearsWithCurrManager</th>\n",
              "      <th>ID</th>\n",
              "    </tr>\n",
              "  </thead>\n",
              "  <tbody>\n",
              "    <tr>\n",
              "      <th>0</th>\n",
              "      <td>41</td>\n",
              "      <td>1</td>\n",
              "      <td>Travel_Rarely</td>\n",
              "      <td>1102</td>\n",
              "      <td>Sales</td>\n",
              "      <td>1</td>\n",
              "      <td>2</td>\n",
              "      <td>Life Sciences</td>\n",
              "      <td>1</td>\n",
              "      <td>1</td>\n",
              "      <td>2</td>\n",
              "      <td>Female</td>\n",
              "      <td>94</td>\n",
              "      <td>3</td>\n",
              "      <td>2</td>\n",
              "      <td>Sales Executive</td>\n",
              "      <td>4</td>\n",
              "      <td>Single</td>\n",
              "      <td>5993</td>\n",
              "      <td>19479</td>\n",
              "      <td>8</td>\n",
              "      <td>Yes</td>\n",
              "      <td>11</td>\n",
              "      <td>3</td>\n",
              "      <td>1</td>\n",
              "      <td>0</td>\n",
              "      <td>8</td>\n",
              "      <td>0</td>\n",
              "      <td>1</td>\n",
              "      <td>6</td>\n",
              "      <td>4</td>\n",
              "      <td>0</td>\n",
              "      <td>5</td>\n",
              "      <td>0</td>\n",
              "    </tr>\n",
              "    <tr>\n",
              "      <th>1</th>\n",
              "      <td>49</td>\n",
              "      <td>0</td>\n",
              "      <td>Travel_Frequently</td>\n",
              "      <td>279</td>\n",
              "      <td>Research &amp; Development</td>\n",
              "      <td>8</td>\n",
              "      <td>1</td>\n",
              "      <td>Life Sciences</td>\n",
              "      <td>1</td>\n",
              "      <td>2</td>\n",
              "      <td>3</td>\n",
              "      <td>Male</td>\n",
              "      <td>61</td>\n",
              "      <td>2</td>\n",
              "      <td>2</td>\n",
              "      <td>Research Scientist</td>\n",
              "      <td>2</td>\n",
              "      <td>Married</td>\n",
              "      <td>5130</td>\n",
              "      <td>24907</td>\n",
              "      <td>1</td>\n",
              "      <td>No</td>\n",
              "      <td>23</td>\n",
              "      <td>4</td>\n",
              "      <td>4</td>\n",
              "      <td>1</td>\n",
              "      <td>10</td>\n",
              "      <td>3</td>\n",
              "      <td>3</td>\n",
              "      <td>10</td>\n",
              "      <td>7</td>\n",
              "      <td>1</td>\n",
              "      <td>7</td>\n",
              "      <td>1</td>\n",
              "    </tr>\n",
              "    <tr>\n",
              "      <th>2</th>\n",
              "      <td>37</td>\n",
              "      <td>1</td>\n",
              "      <td>Travel_Rarely</td>\n",
              "      <td>1373</td>\n",
              "      <td>Research &amp; Development</td>\n",
              "      <td>2</td>\n",
              "      <td>2</td>\n",
              "      <td>Other</td>\n",
              "      <td>1</td>\n",
              "      <td>4</td>\n",
              "      <td>4</td>\n",
              "      <td>Male</td>\n",
              "      <td>92</td>\n",
              "      <td>2</td>\n",
              "      <td>1</td>\n",
              "      <td>Laboratory Technician</td>\n",
              "      <td>3</td>\n",
              "      <td>Single</td>\n",
              "      <td>2090</td>\n",
              "      <td>2396</td>\n",
              "      <td>6</td>\n",
              "      <td>Yes</td>\n",
              "      <td>15</td>\n",
              "      <td>3</td>\n",
              "      <td>2</td>\n",
              "      <td>0</td>\n",
              "      <td>7</td>\n",
              "      <td>3</td>\n",
              "      <td>3</td>\n",
              "      <td>0</td>\n",
              "      <td>0</td>\n",
              "      <td>0</td>\n",
              "      <td>0</td>\n",
              "      <td>2</td>\n",
              "    </tr>\n",
              "    <tr>\n",
              "      <th>3</th>\n",
              "      <td>33</td>\n",
              "      <td>0</td>\n",
              "      <td>Travel_Frequently</td>\n",
              "      <td>1392</td>\n",
              "      <td>Research &amp; Development</td>\n",
              "      <td>3</td>\n",
              "      <td>4</td>\n",
              "      <td>Life Sciences</td>\n",
              "      <td>1</td>\n",
              "      <td>5</td>\n",
              "      <td>4</td>\n",
              "      <td>Female</td>\n",
              "      <td>56</td>\n",
              "      <td>3</td>\n",
              "      <td>1</td>\n",
              "      <td>Research Scientist</td>\n",
              "      <td>3</td>\n",
              "      <td>Married</td>\n",
              "      <td>2909</td>\n",
              "      <td>23159</td>\n",
              "      <td>1</td>\n",
              "      <td>Yes</td>\n",
              "      <td>11</td>\n",
              "      <td>3</td>\n",
              "      <td>3</td>\n",
              "      <td>0</td>\n",
              "      <td>8</td>\n",
              "      <td>3</td>\n",
              "      <td>3</td>\n",
              "      <td>8</td>\n",
              "      <td>7</td>\n",
              "      <td>3</td>\n",
              "      <td>0</td>\n",
              "      <td>3</td>\n",
              "    </tr>\n",
              "    <tr>\n",
              "      <th>4</th>\n",
              "      <td>27</td>\n",
              "      <td>0</td>\n",
              "      <td>Travel_Rarely</td>\n",
              "      <td>591</td>\n",
              "      <td>Research &amp; Development</td>\n",
              "      <td>2</td>\n",
              "      <td>1</td>\n",
              "      <td>Medical</td>\n",
              "      <td>1</td>\n",
              "      <td>7</td>\n",
              "      <td>1</td>\n",
              "      <td>Male</td>\n",
              "      <td>40</td>\n",
              "      <td>3</td>\n",
              "      <td>1</td>\n",
              "      <td>Laboratory Technician</td>\n",
              "      <td>2</td>\n",
              "      <td>Married</td>\n",
              "      <td>3468</td>\n",
              "      <td>16632</td>\n",
              "      <td>9</td>\n",
              "      <td>No</td>\n",
              "      <td>12</td>\n",
              "      <td>3</td>\n",
              "      <td>4</td>\n",
              "      <td>1</td>\n",
              "      <td>6</td>\n",
              "      <td>3</td>\n",
              "      <td>3</td>\n",
              "      <td>2</td>\n",
              "      <td>2</td>\n",
              "      <td>2</td>\n",
              "      <td>2</td>\n",
              "      <td>4</td>\n",
              "    </tr>\n",
              "    <tr>\n",
              "      <th>5</th>\n",
              "      <td>32</td>\n",
              "      <td>0</td>\n",
              "      <td>Travel_Frequently</td>\n",
              "      <td>1005</td>\n",
              "      <td>Research &amp; Development</td>\n",
              "      <td>2</td>\n",
              "      <td>2</td>\n",
              "      <td>Life Sciences</td>\n",
              "      <td>1</td>\n",
              "      <td>8</td>\n",
              "      <td>4</td>\n",
              "      <td>Male</td>\n",
              "      <td>79</td>\n",
              "      <td>3</td>\n",
              "      <td>1</td>\n",
              "      <td>Laboratory Technician</td>\n",
              "      <td>4</td>\n",
              "      <td>Single</td>\n",
              "      <td>3068</td>\n",
              "      <td>11864</td>\n",
              "      <td>0</td>\n",
              "      <td>No</td>\n",
              "      <td>13</td>\n",
              "      <td>3</td>\n",
              "      <td>3</td>\n",
              "      <td>0</td>\n",
              "      <td>8</td>\n",
              "      <td>2</td>\n",
              "      <td>2</td>\n",
              "      <td>7</td>\n",
              "      <td>7</td>\n",
              "      <td>3</td>\n",
              "      <td>6</td>\n",
              "      <td>5</td>\n",
              "    </tr>\n",
              "    <tr>\n",
              "      <th>6</th>\n",
              "      <td>59</td>\n",
              "      <td>0</td>\n",
              "      <td>Travel_Rarely</td>\n",
              "      <td>1324</td>\n",
              "      <td>Research &amp; Development</td>\n",
              "      <td>3</td>\n",
              "      <td>3</td>\n",
              "      <td>Medical</td>\n",
              "      <td>1</td>\n",
              "      <td>10</td>\n",
              "      <td>3</td>\n",
              "      <td>Female</td>\n",
              "      <td>81</td>\n",
              "      <td>4</td>\n",
              "      <td>1</td>\n",
              "      <td>Laboratory Technician</td>\n",
              "      <td>1</td>\n",
              "      <td>Married</td>\n",
              "      <td>2670</td>\n",
              "      <td>9964</td>\n",
              "      <td>4</td>\n",
              "      <td>Yes</td>\n",
              "      <td>20</td>\n",
              "      <td>4</td>\n",
              "      <td>1</td>\n",
              "      <td>3</td>\n",
              "      <td>12</td>\n",
              "      <td>3</td>\n",
              "      <td>2</td>\n",
              "      <td>1</td>\n",
              "      <td>0</td>\n",
              "      <td>0</td>\n",
              "      <td>0</td>\n",
              "      <td>6</td>\n",
              "    </tr>\n",
              "    <tr>\n",
              "      <th>7</th>\n",
              "      <td>30</td>\n",
              "      <td>0</td>\n",
              "      <td>Travel_Rarely</td>\n",
              "      <td>1358</td>\n",
              "      <td>Research &amp; Development</td>\n",
              "      <td>24</td>\n",
              "      <td>1</td>\n",
              "      <td>Life Sciences</td>\n",
              "      <td>1</td>\n",
              "      <td>11</td>\n",
              "      <td>4</td>\n",
              "      <td>Male</td>\n",
              "      <td>67</td>\n",
              "      <td>3</td>\n",
              "      <td>1</td>\n",
              "      <td>Laboratory Technician</td>\n",
              "      <td>3</td>\n",
              "      <td>Divorced</td>\n",
              "      <td>2693</td>\n",
              "      <td>13335</td>\n",
              "      <td>1</td>\n",
              "      <td>No</td>\n",
              "      <td>22</td>\n",
              "      <td>4</td>\n",
              "      <td>2</td>\n",
              "      <td>1</td>\n",
              "      <td>1</td>\n",
              "      <td>2</td>\n",
              "      <td>3</td>\n",
              "      <td>1</td>\n",
              "      <td>0</td>\n",
              "      <td>0</td>\n",
              "      <td>0</td>\n",
              "      <td>7</td>\n",
              "    </tr>\n",
              "    <tr>\n",
              "      <th>8</th>\n",
              "      <td>38</td>\n",
              "      <td>0</td>\n",
              "      <td>Travel_Frequently</td>\n",
              "      <td>216</td>\n",
              "      <td>Research &amp; Development</td>\n",
              "      <td>23</td>\n",
              "      <td>3</td>\n",
              "      <td>Life Sciences</td>\n",
              "      <td>1</td>\n",
              "      <td>12</td>\n",
              "      <td>4</td>\n",
              "      <td>Male</td>\n",
              "      <td>44</td>\n",
              "      <td>2</td>\n",
              "      <td>3</td>\n",
              "      <td>Manufacturing Director</td>\n",
              "      <td>3</td>\n",
              "      <td>Single</td>\n",
              "      <td>9526</td>\n",
              "      <td>8787</td>\n",
              "      <td>0</td>\n",
              "      <td>No</td>\n",
              "      <td>21</td>\n",
              "      <td>4</td>\n",
              "      <td>2</td>\n",
              "      <td>0</td>\n",
              "      <td>10</td>\n",
              "      <td>2</td>\n",
              "      <td>3</td>\n",
              "      <td>9</td>\n",
              "      <td>7</td>\n",
              "      <td>1</td>\n",
              "      <td>8</td>\n",
              "      <td>8</td>\n",
              "    </tr>\n",
              "    <tr>\n",
              "      <th>9</th>\n",
              "      <td>36</td>\n",
              "      <td>0</td>\n",
              "      <td>Travel_Rarely</td>\n",
              "      <td>1299</td>\n",
              "      <td>Research &amp; Development</td>\n",
              "      <td>27</td>\n",
              "      <td>3</td>\n",
              "      <td>Medical</td>\n",
              "      <td>1</td>\n",
              "      <td>13</td>\n",
              "      <td>3</td>\n",
              "      <td>Male</td>\n",
              "      <td>94</td>\n",
              "      <td>3</td>\n",
              "      <td>2</td>\n",
              "      <td>Healthcare Representative</td>\n",
              "      <td>3</td>\n",
              "      <td>Married</td>\n",
              "      <td>5237</td>\n",
              "      <td>16577</td>\n",
              "      <td>6</td>\n",
              "      <td>No</td>\n",
              "      <td>13</td>\n",
              "      <td>3</td>\n",
              "      <td>2</td>\n",
              "      <td>2</td>\n",
              "      <td>17</td>\n",
              "      <td>3</td>\n",
              "      <td>2</td>\n",
              "      <td>7</td>\n",
              "      <td>7</td>\n",
              "      <td>7</td>\n",
              "      <td>7</td>\n",
              "      <td>9</td>\n",
              "    </tr>\n",
              "  </tbody>\n",
              "</table>\n",
              "</div>"
            ],
            "text/plain": [
              "   Age  Attrition  ... YearsWithCurrManager  ID\n",
              "0   41          1  ...                    5   0\n",
              "1   49          0  ...                    7   1\n",
              "2   37          1  ...                    0   2\n",
              "3   33          0  ...                    0   3\n",
              "4   27          0  ...                    2   4\n",
              "5   32          0  ...                    6   5\n",
              "6   59          0  ...                    0   6\n",
              "7   30          0  ...                    0   7\n",
              "8   38          0  ...                    8   8\n",
              "9   36          0  ...                    7   9\n",
              "\n",
              "[10 rows x 34 columns]"
            ]
          },
          "metadata": {
            "tags": []
          },
          "execution_count": 6
        }
      ]
    },
    {
      "cell_type": "markdown",
      "metadata": {
        "id": "PSm-U7LEF5u_",
        "colab_type": "text"
      },
      "source": [
        "### Using the dataframe ```df```, perform the following: \n",
        "\n",
        "* Print the first five rows of the column ```MonthlyRate```. \n",
        "* Find out the details of the column ```MonthlyRate``` like mean, maximum value, minimum value, etc. "
      ]
    },
    {
      "cell_type": "code",
      "metadata": {
        "id": "QS5LttI-GT2f",
        "colab_type": "code",
        "outputId": "c3516698-c66b-4715-e838-fa39b75e6fc7",
        "colab": {
          "base_uri": "https://localhost:8080/",
          "height": 123
        }
      },
      "source": [
        "# Print the first five rows of MonthlyRate\n",
        "df['MonthlyRate'].head()"
      ],
      "execution_count": 7,
      "outputs": [
        {
          "output_type": "execute_result",
          "data": {
            "text/plain": [
              "0    19479\n",
              "1    24907\n",
              "2     2396\n",
              "3    23159\n",
              "4    16632\n",
              "Name: MonthlyRate, dtype: int64"
            ]
          },
          "metadata": {
            "tags": []
          },
          "execution_count": 7
        }
      ]
    },
    {
      "cell_type": "code",
      "metadata": {
        "id": "EzQ1a1M0GURm",
        "colab_type": "code",
        "outputId": "eca1d830-cd35-4982-affa-62e5be68e3fc",
        "colab": {
          "base_uri": "https://localhost:8080/",
          "height": 105
        }
      },
      "source": [
        "# Find the details of MonthlyRate \n",
        "print(df['MonthlyRate'].mean())\n",
        "print(df['MonthlyRate'].std())\n",
        "print(df['MonthlyRate'].max())\n",
        "print(df['MonthlyRate'].min())\n",
        "#print(df['MonthlyRate'].mode())\n",
        "print(df['MonthlyRate'].median())"
      ],
      "execution_count": 8,
      "outputs": [
        {
          "output_type": "stream",
          "text": [
            "14243.53112840467\n",
            "7048.768075948737\n",
            "26999\n",
            "2094\n",
            "14074.5\n"
          ],
          "name": "stdout"
        }
      ]
    },
    {
      "cell_type": "markdown",
      "metadata": {
        "id": "3h-YOTvPQI48",
        "colab_type": "text"
      },
      "source": [
        "---\n",
        "## Part 2 - Cleaning and manipulating data \n",
        "---"
      ]
    },
    {
      "cell_type": "markdown",
      "metadata": {
        "id": "EtLzBibsQfXu",
        "colab_type": "text"
      },
      "source": [
        "### Using the dataframe ```df```, peform the following:\n",
        "\n",
        "* Check whether there are any missing values in ```df```. \n",
        "* If yes, drop those values and print the size of ```df``` after dropping these. "
      ]
    },
    {
      "cell_type": "code",
      "metadata": {
        "id": "XG-UK53fRDRZ",
        "colab_type": "code",
        "outputId": "042ee2ab-3bf8-41ed-c9d3-bc80dff9f21a",
        "colab": {
          "base_uri": "https://localhost:8080/",
          "height": 638
        }
      },
      "source": [
        "# Check for missing values\n",
        "for i in df.columns:\n",
        "  #print(pd.isna(df[i]))\n",
        "  print(i,\" -> \",len(df[pd.isna(df[i])]))\n",
        "\n",
        "############## Or df.isna().sum() ##############\n",
        "# Drop the missing values \n",
        "df = df.dropna()\n",
        "\n",
        "# Print the size of df after dropping \n",
        "df.shape\n"
      ],
      "execution_count": 9,
      "outputs": [
        {
          "output_type": "stream",
          "text": [
            "Age  ->  0\n",
            "Attrition  ->  0\n",
            "BusinessTravel  ->  0\n",
            "DailyRate  ->  0\n",
            "Department  ->  0\n",
            "DistanceFromHome  ->  0\n",
            "Education  ->  0\n",
            "EducationField  ->  0\n",
            "EmployeeCount  ->  0\n",
            "EmployeeNumber  ->  0\n",
            "EnvironmentSatisfaction  ->  0\n",
            "Gender  ->  0\n",
            "HourlyRate  ->  0\n",
            "JobInvolvement  ->  0\n",
            "JobLevel  ->  0\n",
            "JobRole  ->  0\n",
            "JobSatisfaction  ->  0\n",
            "MaritalStatus  ->  0\n",
            "MonthlyIncome  ->  0\n",
            "MonthlyRate  ->  0\n",
            "NumCompaniesWorked  ->  0\n",
            "OverTime  ->  0\n",
            "PercentSalaryHike  ->  0\n",
            "PerformanceRating  ->  0\n",
            "RelationshipSatisfaction  ->  0\n",
            "StockOptionLevel  ->  0\n",
            "TotalWorkingYears  ->  0\n",
            "TrainingTimesLastYear  ->  0\n",
            "WorkLifeBalance  ->  0\n",
            "YearsAtCompany  ->  0\n",
            "YearsInCurrentRole  ->  0\n",
            "YearsSinceLastPromotion  ->  0\n",
            "YearsWithCurrManager  ->  0\n",
            "ID  ->  0\n"
          ],
          "name": "stdout"
        },
        {
          "output_type": "execute_result",
          "data": {
            "text/plain": [
              "(1028, 34)"
            ]
          },
          "metadata": {
            "tags": []
          },
          "execution_count": 9
        }
      ]
    },
    {
      "cell_type": "markdown",
      "metadata": {
        "id": "qtoGcl2XRWnS",
        "colab_type": "text"
      },
      "source": [
        "### Using the dataframe ```df```, peform the following:\n",
        "\n",
        "* Add another column named ```MonthRateNew``` in ```df``` by subtracting the mean from ```MonthlyRate``` and dividing it by standard deviation. "
      ]
    },
    {
      "cell_type": "code",
      "metadata": {
        "id": "zDMncSUKR12P",
        "colab_type": "code",
        "colab": {}
      },
      "source": [
        "# Add a column named MonthRateNew \n",
        "df[\"MonthRateNew\"] = (df[\"MonthlyRate\"] - df.MonthlyRate.mean())/(df.MonthlyRate.std())"
      ],
      "execution_count": 0,
      "outputs": []
    },
    {
      "cell_type": "code",
      "metadata": {
        "id": "h5ZOQ9k6tjAq",
        "colab_type": "code",
        "outputId": "b34905d8-0b17-431d-d4d8-91a028a06abf",
        "colab": {
          "base_uri": "https://localhost:8080/",
          "height": 123
        }
      },
      "source": [
        "df.MonthRateNew.head()"
      ],
      "execution_count": 11,
      "outputs": [
        {
          "output_type": "execute_result",
          "data": {
            "text/plain": [
              "0    0.742749\n",
              "1    1.512813\n",
              "2   -1.680795\n",
              "3    1.264827\n",
              "4    0.338849\n",
              "Name: MonthRateNew, dtype: float64"
            ]
          },
          "metadata": {
            "tags": []
          },
          "execution_count": 11
        }
      ]
    },
    {
      "cell_type": "markdown",
      "metadata": {
        "id": "pcbN7jep13og",
        "colab_type": "text"
      },
      "source": [
        "### Using the dataframe ```movies```, perform the following: \n",
        "\n",
        "* Check whether there are any missing values in ```movies```. \n",
        "* Find out the number of observations/rows having any of their features/columns missing. \n",
        "* Drop the missing values and print the size of ```movies``` after dropping these. \n",
        "* Instead of dropping the missing values, replace the missing values by their mean (or some suitable value). \n"
      ]
    },
    {
      "cell_type": "code",
      "metadata": {
        "id": "DNszBx8A14ai",
        "colab_type": "code",
        "outputId": "197779e8-0fd6-4220-dfa5-45665bdbaa16",
        "colab": {
          "base_uri": "https://localhost:8080/",
          "height": 621
        }
      },
      "source": [
        "# Check for missing values \n",
        "movies.isna().sum()\n",
        "# Drop the missing values\n",
        "oldshape = movies.shape \n",
        "movies = movies.dropna()\n",
        "#movies.isna().sum()\n",
        "print(oldshape)\n",
        "print(movies.shape)\n",
        "movies.isna().sum()"
      ],
      "execution_count": 12,
      "outputs": [
        {
          "output_type": "stream",
          "text": [
            "(600, 31)\n",
            "(572, 31)\n"
          ],
          "name": "stdout"
        },
        {
          "output_type": "execute_result",
          "data": {
            "text/plain": [
              "Unnamed: 0          0\n",
              "title               0\n",
              "title_type          0\n",
              "genre               0\n",
              "runtime             0\n",
              "mpaa_rating         0\n",
              "studio              0\n",
              "thtr_rel_year       0\n",
              "thtr_rel_month      0\n",
              "thtr_rel_day        0\n",
              "dvd_rel_year        0\n",
              "dvd_rel_month       0\n",
              "dvd_rel_day         0\n",
              "imdb_rating         0\n",
              "imdb_num_votes      0\n",
              "critics_rating      0\n",
              "critics_score       0\n",
              "audience_rating     0\n",
              "audience_score      0\n",
              "best_pic_nom        0\n",
              "best_pic_win        0\n",
              "best_actor_win      0\n",
              "best_actress_win    0\n",
              "best_dir_win        0\n",
              "top200_box          0\n",
              "director            0\n",
              "actor1              0\n",
              "actor2              0\n",
              "actor3              0\n",
              "actor4              0\n",
              "actor5              0\n",
              "dtype: int64"
            ]
          },
          "metadata": {
            "tags": []
          },
          "execution_count": 12
        }
      ]
    },
    {
      "cell_type": "code",
      "metadata": {
        "id": "o7afs0Gg0UCu",
        "colab_type": "code",
        "colab": {}
      },
      "source": [
        "movies = pd.read_csv('/content/drive/My Drive/DS/ds_l2/movies.csv')"
      ],
      "execution_count": 0,
      "outputs": []
    },
    {
      "cell_type": "code",
      "metadata": {
        "id": "eNcTCoIqy4EK",
        "colab_type": "code",
        "outputId": "38f9521a-98a2-46e7-db3d-e2b77d3ae81b",
        "colab": {
          "base_uri": "https://localhost:8080/",
          "height": 1000
        }
      },
      "source": [
        "# Replace the missing values \n",
        "\n",
        "#pd.set_option('display.max_rows',None)\n",
        "#movies.loc[movies[\"dvd_rel_year\"].isna()]\n",
        "\n",
        "for i in movies.columns:\n",
        "  if movies[i].isna().sum() > 0:\n",
        "    print(movies[i])"
      ],
      "execution_count": 14,
      "outputs": [
        {
          "output_type": "stream",
          "text": [
            "0       80.0\n",
            "1      101.0\n",
            "2       84.0\n",
            "3      139.0\n",
            "4       90.0\n",
            "       ...  \n",
            "595     97.0\n",
            "596     82.0\n",
            "597     87.0\n",
            "598    120.0\n",
            "599     97.0\n",
            "Name: runtime, Length: 600, dtype: float64\n",
            "0           Indomina Media Inc.\n",
            "1         Warner Bros. Pictures\n",
            "2        Sony Pictures Classics\n",
            "3             Columbia Pictures\n",
            "4      Anchor Bay Entertainment\n",
            "                 ...           \n",
            "595          Genius Productions\n",
            "596          Universal Pictures\n",
            "597    Grindhouse Entertainment\n",
            "598        Buena Vista Pictures\n",
            "599             Lionsgate Films\n",
            "Name: studio, Length: 600, dtype: object\n",
            "0      2013.0\n",
            "1      2001.0\n",
            "2      2001.0\n",
            "3      2001.0\n",
            "4      2005.0\n",
            "        ...  \n",
            "595    2008.0\n",
            "596    1998.0\n",
            "597    2008.0\n",
            "598    2004.0\n",
            "599    2012.0\n",
            "Name: dvd_rel_year, Length: 600, dtype: float64\n",
            "0       7.0\n",
            "1       8.0\n",
            "2       8.0\n",
            "3      11.0\n",
            "4       4.0\n",
            "       ... \n",
            "595    10.0\n",
            "596     6.0\n",
            "597    10.0\n",
            "598    11.0\n",
            "599     7.0\n",
            "Name: dvd_rel_month, Length: 600, dtype: float64\n",
            "0      30.0\n",
            "1      28.0\n",
            "2      21.0\n",
            "3       6.0\n",
            "4      19.0\n",
            "       ... \n",
            "595    28.0\n",
            "596    30.0\n",
            "597    14.0\n",
            "598     2.0\n",
            "599    31.0\n",
            "Name: dvd_rel_day, Length: 600, dtype: float64\n",
            "0       Michael D. Olmos\n",
            "1              Rob Sitch\n",
            "2      Christopher Guest\n",
            "3        Martin Scorsese\n",
            "4            Stevan Mena\n",
            "             ...        \n",
            "595    Gillian Armstrong\n",
            "596          Tamra Davis\n",
            "597         Gregg Bishop\n",
            "598         Frank Coraci\n",
            "599         Liza Azuelos\n",
            "Name: director, Length: 600, dtype: object\n",
            "0         Gina Rodriguez\n",
            "1              Sam Neill\n",
            "2      Christopher Guest\n",
            "3       Daniel Day-Lewis\n",
            "4          Samantha Dark\n",
            "             ...        \n",
            "595           Guy Pearce\n",
            "596       Dave Chappelle\n",
            "597        Jared Kusnitz\n",
            "598          Jackie Chan\n",
            "599          Miley Cyrus\n",
            "Name: actor1, Length: 600, dtype: object\n",
            "0              Jenni Rivera\n",
            "1          Kevin Harrington\n",
            "2          Catherine O'Hara\n",
            "3         Michelle Pfeiffer\n",
            "4        R. Brandon Johnson\n",
            "               ...         \n",
            "595    Catherine Zeta-Jones\n",
            "596          Guillermo Diaz\n",
            "597        Greyson Chadwick\n",
            "598            Steve Coogan\n",
            "599              Demi Moore\n",
            "Name: actor2, Length: 600, dtype: object\n",
            "0      Lou Diamond Phillips\n",
            "1         Patrick Warburton\n",
            "2              Parker Posey\n",
            "3              Winona Ryder\n",
            "4           Brandon Johnson\n",
            "               ...         \n",
            "595           Timothy Spall\n",
            "596              Jim Breuer\n",
            "597          Chandler Darby\n",
            "598            Ewen Bremner\n",
            "599           Ashley Greene\n",
            "Name: actor3, Length: 600, dtype: object\n",
            "0           Emilio Rivera\n",
            "1                Tom Long\n",
            "2             Eugene Levy\n",
            "3        Richard E. Grant\n",
            "4           Heather Magee\n",
            "              ...        \n",
            "595         Saoirse Ronan\n",
            "596      Harland Williams\n",
            "597    Carissa Capobianco\n",
            "598           Robert Fyfe\n",
            "599         Douglas Booth\n",
            "Name: actor4, Length: 600, dtype: object\n",
            "0      Joseph Julian Soria\n",
            "1           Genevieve Mooy\n",
            "2              Bob Balaban\n",
            "3             Alec McCowen\n",
            "4           Richard Glover\n",
            "              ...         \n",
            "595            Jack Bailey\n",
            "596            Rachel True\n",
            "597         Randy McDowell\n",
            "598            Ian McNeice\n",
            "599         Adam G. Sevani\n",
            "Name: actor5, Length: 600, dtype: object\n"
          ],
          "name": "stdout"
        }
      ]
    },
    {
      "cell_type": "code",
      "metadata": {
        "id": "VmNOdwe86A6l",
        "colab_type": "code",
        "colab": {}
      },
      "source": [
        "movies[\"runtime\"] = movies[\"runtime\"].fillna(movies[\"runtime\"].mean())\n",
        "movies[\"dvd_rel_year\"] = movies[\"dvd_rel_year\"].fillna(movies[\"dvd_rel_year\"].mean())\n",
        "movies[\"dvd_rel_month\"] = movies[\"dvd_rel_month\"].fillna(movies[\"dvd_rel_month\"].mean())\n",
        "movies[\"dvd_rel_day\"] = movies[\"dvd_rel_day\"].fillna(movies[\"dvd_rel_day\"].mean())"
      ],
      "execution_count": 0,
      "outputs": []
    },
    {
      "cell_type": "code",
      "metadata": {
        "id": "avQs4tqT2d5J",
        "colab_type": "code",
        "outputId": "fd553695-4124-4a5a-c62a-25cdecf9af8c",
        "colab": {
          "base_uri": "https://localhost:8080/",
          "height": 585
        }
      },
      "source": [
        "movies.isna().sum()"
      ],
      "execution_count": 16,
      "outputs": [
        {
          "output_type": "execute_result",
          "data": {
            "text/plain": [
              "Unnamed: 0           0\n",
              "title                0\n",
              "title_type           0\n",
              "genre                0\n",
              "runtime              0\n",
              "mpaa_rating          0\n",
              "studio               5\n",
              "thtr_rel_year        0\n",
              "thtr_rel_month       0\n",
              "thtr_rel_day         0\n",
              "dvd_rel_year         0\n",
              "dvd_rel_month        0\n",
              "dvd_rel_day          0\n",
              "imdb_rating          0\n",
              "imdb_num_votes       0\n",
              "critics_rating       0\n",
              "critics_score        0\n",
              "audience_rating      0\n",
              "audience_score       0\n",
              "best_pic_nom         0\n",
              "best_pic_win         0\n",
              "best_actor_win       0\n",
              "best_actress_win     0\n",
              "best_dir_win         0\n",
              "top200_box           0\n",
              "director             2\n",
              "actor1               2\n",
              "actor2               7\n",
              "actor3               9\n",
              "actor4              12\n",
              "actor5              14\n",
              "dtype: int64"
            ]
          },
          "metadata": {
            "tags": []
          },
          "execution_count": 16
        }
      ]
    },
    {
      "cell_type": "code",
      "metadata": {
        "id": "w6WDe_BP7DV-",
        "colab_type": "code",
        "colab": {}
      },
      "source": [
        "for i in movies.columns:\n",
        "  if movies[i].isna().sum() > 0:\n",
        "    movies[i] = movies[i].fillna(\"Lakshya\")"
      ],
      "execution_count": 0,
      "outputs": []
    },
    {
      "cell_type": "code",
      "metadata": {
        "id": "jwfpCfJ87OT0",
        "colab_type": "code",
        "outputId": "f297ecee-87c2-48e7-d066-c8956a3de1f9",
        "colab": {
          "base_uri": "https://localhost:8080/",
          "height": 585
        }
      },
      "source": [
        "movies.isna().sum()"
      ],
      "execution_count": 18,
      "outputs": [
        {
          "output_type": "execute_result",
          "data": {
            "text/plain": [
              "Unnamed: 0          0\n",
              "title               0\n",
              "title_type          0\n",
              "genre               0\n",
              "runtime             0\n",
              "mpaa_rating         0\n",
              "studio              0\n",
              "thtr_rel_year       0\n",
              "thtr_rel_month      0\n",
              "thtr_rel_day        0\n",
              "dvd_rel_year        0\n",
              "dvd_rel_month       0\n",
              "dvd_rel_day         0\n",
              "imdb_rating         0\n",
              "imdb_num_votes      0\n",
              "critics_rating      0\n",
              "critics_score       0\n",
              "audience_rating     0\n",
              "audience_score      0\n",
              "best_pic_nom        0\n",
              "best_pic_win        0\n",
              "best_actor_win      0\n",
              "best_actress_win    0\n",
              "best_dir_win        0\n",
              "top200_box          0\n",
              "director            0\n",
              "actor1              0\n",
              "actor2              0\n",
              "actor3              0\n",
              "actor4              0\n",
              "actor5              0\n",
              "dtype: int64"
            ]
          },
          "metadata": {
            "tags": []
          },
          "execution_count": 18
        }
      ]
    },
    {
      "cell_type": "markdown",
      "metadata": {
        "id": "qDr11sjlBk_W",
        "colab_type": "text"
      },
      "source": [
        "---\n",
        "## Part 3 - Visualizing data \n",
        "---"
      ]
    },
    {
      "cell_type": "markdown",
      "metadata": {
        "id": "wC_w1zNCBw2G",
        "colab_type": "text"
      },
      "source": [
        "### Visualize the ```df``` by drawing the following plots:\n",
        "\n",
        "* Plot a histogram of ```Age``` and find the range in which most people are there. \n",
        "* Modify the histogram of ```Age``` by adding 30 bins. \n",
        "* Draw a scatter plot between ```Age``` and ```Attrition``` and suitable labels to the axes. Find out whether people more than 50 years are more likely to leave the company. (```Attrition``` = 1 means people have left the company). "
      ]
    },
    {
      "cell_type": "code",
      "metadata": {
        "id": "645EwAsoH63i",
        "colab_type": "code",
        "outputId": "9b420208-f830-485f-c1f8-061f17cb9cc3",
        "colab": {
          "base_uri": "https://localhost:8080/",
          "height": 300
        }
      },
      "source": [
        "# Plot and modify the histogram of Age\n",
        "#n, bins, patches = plt.hist(df[\"Age\"])\n",
        "#print(n.max())\n",
        "#print(bins[(n.argmax())],\" to \",bins[n.argmax()+1])\n",
        "\n",
        "n, bin_s, patches = plt.hist(df[\"Age\"],bins = 30)\n",
        "plt.show()\n",
        "print(n.max())\n",
        "print(bin_s[(n.argmax())],\"to\",bin_s[n.argmax()+1])"
      ],
      "execution_count": 19,
      "outputs": [
        {
          "output_type": "display_data",
          "data": {
            "image/png": "[encoded data removed]",
            "text/plain": [
              "<Figure size 432x288 with 1 Axes>"
            ]
          },
          "metadata": {
            "tags": [],
            "needs_background": "light"
          }
        },
        {
          "output_type": "stream",
          "text": [
            "99.0\n",
            "34.8 to 36.2\n"
          ],
          "name": "stdout"
        }
      ]
    },
    {
      "cell_type": "code",
      "metadata": {
        "id": "i0Tb98t-4HLe",
        "colab_type": "code",
        "outputId": "66fe39b5-ca46-48e5-9ec1-86d096223f5a",
        "colab": {
          "base_uri": "https://localhost:8080/",
          "height": 278
        }
      },
      "source": [
        "# Draw a scatter plot between Age and Attrition\n",
        "count = 0\n",
        "plt.scatter(y=df[\"Attrition\"],x=df[\"Age\"])\n",
        "plt.ylabel('Attrition')\n",
        "plt.xlabel('Age')\n",
        "plt.show()\n",
        "\n",
        "######## Clearly age>50 people less likely to leave as Attrition=0 more than Attrition=1 #######"
      ],
      "execution_count": 20,
      "outputs": [
        {
          "output_type": "display_data",
          "data": {
            "image/png": "[encoded data removed]",
            "text/plain": [
              "<Figure size 432x288 with 1 Axes>"
            ]
          },
          "metadata": {
            "tags": [],
            "needs_background": "light"
          }
        }
      ]
    },
    {
      "cell_type": "markdown",
      "metadata": {
        "id": "eez_pkZ-HDKP",
        "colab_type": "text"
      },
      "source": [
        "### Visualize the ```df``` by following the steps given below:\n",
        "\n",
        "* Get a series containing counts of unique values of ```Attrition```.\n",
        "* Draw a countplot for ```Attrition``` using ```sns.countplot()```. "
      ]
    },
    {
      "cell_type": "code",
      "metadata": {
        "id": "Tp8LnxLWIPfk",
        "colab_type": "code",
        "outputId": "50aa346f-77a1-4bf1-af1f-25589b22b858",
        "colab": {
          "base_uri": "https://localhost:8080/",
          "height": 350
        }
      },
      "source": [
        "# Get a series of counts of values of Attrition\n",
        "d = df[\"Attrition\"].value_counts()\n",
        "print(d)\n",
        "\n",
        "# Draw a countplot for Attrition \n",
        "sns.countplot(df['Attrition'])\n",
        "\n",
        "# You may use countplot of seaborn for this \n",
        "\n"
      ],
      "execution_count": 21,
      "outputs": [
        {
          "output_type": "stream",
          "text": [
            "0    856\n",
            "1    172\n",
            "Name: Attrition, dtype: int64\n"
          ],
          "name": "stdout"
        },
        {
          "output_type": "execute_result",
          "data": {
            "text/plain": [
              "<matplotlib.axes._subplots.AxesSubplot at 0x7f726a74cb70>"
            ]
          },
          "metadata": {
            "tags": []
          },
          "execution_count": 21
        },
        {
          "output_type": "display_data",
          "data": {
            "image/png": "[encoded data removed]",
            "text/plain": [
              "<Figure size 432x288 with 1 Axes>"
            ]
          },
          "metadata": {
            "tags": [],
            "needs_background": "light"
          }
        }
      ]
    },
    {
      "cell_type": "markdown",
      "metadata": {
        "id": "Vi01m9MBHaJD",
        "colab_type": "text"
      },
      "source": [
        "### Visualize the ```df``` by following the steps given below:\n",
        "\n",
        "* Draw a cross tabulation of ```Attrition``` and ```BusinessTravel``` as bar charts. Find which value of ```BusinessTravel``` has highest number of people."
      ]
    },
    {
      "cell_type": "code",
      "metadata": {
        "id": "5OHAeOqeIQVM",
        "colab_type": "code",
        "outputId": "432c5d3b-5596-46b3-8c5f-0555d852f8ba",
        "colab": {
          "base_uri": "https://localhost:8080/",
          "height": 364
        }
      },
      "source": [
        "# Draw a cross tab of Attritiona and BusinessTravel \n",
        "print(pd.crosstab(df[\"Attrition\"],df[\"BusinessTravel\"]))\n",
        "pd.crosstab(df[\"Attrition\"],df[\"BusinessTravel\"]).plot(kind='bar')\n",
        "# You may use crosstab of pandas for this \n",
        "\n"
      ],
      "execution_count": 22,
      "outputs": [
        {
          "output_type": "stream",
          "text": [
            "BusinessTravel  Non-Travel  Travel_Frequently  Travel_Rarely\n",
            "Attrition                                                   \n",
            "0                       92                150            614\n",
            "1                       10                 47            115\n"
          ],
          "name": "stdout"
        },
        {
          "output_type": "execute_result",
          "data": {
            "text/plain": [
              "<matplotlib.axes._subplots.AxesSubplot at 0x7f7267e982e8>"
            ]
          },
          "metadata": {
            "tags": []
          },
          "execution_count": 22
        },
        {
          "output_type": "display_data",
          "data": {
            "image/png": "[encoded data removed]",
            "text/plain": [
              "<Figure size 432x288 with 1 Axes>"
            ]
          },
          "metadata": {
            "tags": [],
            "needs_background": "light"
          }
        }
      ]
    },
    {
      "cell_type": "markdown",
      "metadata": {
        "id": "1FCc9ZkUHfqL",
        "colab_type": "text"
      },
      "source": [
        "### Visualize the ```df``` by drawing the following plot:\n",
        "\n",
        "* Draw a stacked bar chart between ```Attrition``` and ```Gender``` columns. "
      ]
    },
    {
      "cell_type": "code",
      "metadata": {
        "id": "58ELSAXBIQST",
        "colab_type": "code",
        "outputId": "dd518ca7-cddf-41a1-bd02-8dff5605f81c",
        "colab": {
          "base_uri": "https://localhost:8080/",
          "height": 293
        }
      },
      "source": [
        "# Draw a stacked bar chart between Attrition and Gender \n",
        "pd.crosstab(df[\"Attrition\"],df[\"Gender\"]).plot(kind='bar',stacked=True)"
      ],
      "execution_count": 23,
      "outputs": [
        {
          "output_type": "execute_result",
          "data": {
            "text/plain": [
              "<matplotlib.axes._subplots.AxesSubplot at 0x7f7267ecbba8>"
            ]
          },
          "metadata": {
            "tags": []
          },
          "execution_count": 23
        },
        {
          "output_type": "display_data",
          "data": {
            "image/png": "[encoded data removed]",
            "text/plain": [
              "<Figure size 432x288 with 1 Axes>"
            ]
          },
          "metadata": {
            "tags": [],
            "needs_background": "light"
          }
        }
      ]
    },
    {
      "cell_type": "markdown",
      "metadata": {
        "id": "vZzsi8_QLEdq",
        "colab_type": "text"
      },
      "source": [
        "### Visualize the ```df``` by drawing the following histogram:\n",
        "\n",
        "* Draw a histogram of ```TotalWorkingYears``` with 30 bins. \n",
        "* Draw a histogram of ```YearsAtCompany``` with 30 bins and find whether the values in ```YearsAtCompany``` are skewed. "
      ]
    },
    {
      "cell_type": "code",
      "metadata": {
        "id": "zvSlfj3FLUvV",
        "colab_type": "code",
        "outputId": "0fa8372a-dd8f-4de1-cc65-5e1d42d262a6",
        "colab": {
          "base_uri": "https://localhost:8080/",
          "height": 278
        }
      },
      "source": [
        "# Draw a histogram of TotalWorkingYears with 30 bins\n",
        "plt.hist(df[\"TotalWorkingYears\"],bins = 30)\n",
        "plt.xlabel('TotalWorkingYears')\n",
        "plt.ylabel('Count')\n",
        "plt.show()"
      ],
      "execution_count": 24,
      "outputs": [
        {
          "output_type": "display_data",
          "data": {
            "image/png": "[encoded data removed]",
            "text/plain": [
              "<Figure size 432x288 with 1 Axes>"
            ]
          },
          "metadata": {
            "tags": [],
            "needs_background": "light"
          }
        }
      ]
    },
    {
      "cell_type": "code",
      "metadata": {
        "id": "Ua1Y_3_FOcQ8",
        "colab_type": "code",
        "outputId": "031cb290-7cab-4350-e198-4e124f8f0e07",
        "colab": {
          "base_uri": "https://localhost:8080/",
          "height": 350
        }
      },
      "source": [
        "# Draw a histogram of YearsAtCompany\n",
        "plt.hist(df[\"YearsAtCompany\"],bins = 30)\n",
        "plt.xlabel('YearsAtCompany')\n",
        "plt.ylabel('Count')\n",
        "plt.show()\n",
        "\n",
        "print(\"Median = \",df['YearsAtCompany'].median())\n",
        "\n",
        "p1 = df['YearsAtCompany'].value_counts()\n",
        "print(\"Left of median = \",p1[0]+p1[1]+p1[2]+p1[3]+p1[4])\n",
        "print(\"Right of median = \",p1.sum()-(p1[0]+p1[1]+p1[2]+p1[3]+p1[4])-p1[5])\n",
        "\n",
        "print(\"Yes. The values in YearsAtCompany are SKEWED\")"
      ],
      "execution_count": 25,
      "outputs": [
        {
          "output_type": "display_data",
          "data": {
            "image/png": "[encoded data removed]",
            "text/plain": [
              "<Figure size 432x288 with 1 Axes>"
            ]
          },
          "metadata": {
            "tags": [],
            "needs_background": "light"
          }
        },
        {
          "output_type": "stream",
          "text": [
            "Median =  5.0\n",
            "Left of median =  406\n",
            "Right of median =  493\n",
            "Yes. The values in YearsAtCompany are SKEWED\n"
          ],
          "name": "stdout"
        }
      ]
    },
    {
      "cell_type": "markdown",
      "metadata": {
        "id": "oBcsFqz-Moja",
        "colab_type": "text"
      },
      "source": [
        "### Visualize the ```df``` by drawing the following boxplot:\n",
        "\n",
        "* Draw a boxplot of ```MonthlyIncome``` for each ```Department``` and report whether there is/are outlier(s). \n"
      ]
    },
    {
      "cell_type": "code",
      "metadata": {
        "id": "S6zsSE65NED9",
        "colab_type": "code",
        "outputId": "99c83da4-d2e2-456c-f34f-0133621d76ad",
        "colab": {
          "base_uri": "https://localhost:8080/",
          "height": 296
        }
      },
      "source": [
        "# Draw a boxplot of MonthlyIncome for each Department and report outliers \n",
        "sns.boxplot('MonthlyIncome','Department', data=df)\n",
        "\n",
        "print(\"YES ! There do exist outliers as can be clearly seen. In R&D and Sales.\")"
      ],
      "execution_count": 28,
      "outputs": [
        {
          "output_type": "stream",
          "text": [
            "YES ! There do exist outliers as can be clearly seen. In R&D and Sales.\n"
          ],
          "name": "stdout"
        },
        {
          "output_type": "display_data",
          "data": {
            "image/png": "[encoded data removed]",
            "text/plain": [
              "<Figure size 432x288 with 1 Axes>"
            ]
          },
          "metadata": {
            "tags": [],
            "needs_background": "light"
          }
        }
      ]
    },
    {
      "cell_type": "markdown",
      "metadata": {
        "id": "NRPgJjp-NX07",
        "colab_type": "text"
      },
      "source": [
        "### Visualize the ```df``` by drawing the following piechart:\n",
        "\n",
        "* Create a pie chart of the values in ```JobRole``` with suitable label and report which role has highest number of persons. "
      ]
    },
    {
      "cell_type": "code",
      "metadata": {
        "id": "5pr2HVVGNlaV",
        "colab_type": "code",
        "colab": {
          "base_uri": "https://localhost:8080/",
          "height": 265
        },
        "outputId": "1863fa28-3a21-4e5e-9c23-94c817ff2aa2"
      },
      "source": [
        "# Create a piechart of JobRole \n",
        "roles = df[\"JobRole\"].value_counts()\n",
        "plt.pie(roles, labels=roles.index.tolist())\n",
        "plt.show()\n",
        "# You will need to find the counts of unique values in JobRole. \n",
        "\n",
        "\n",
        "print(\"Clearly REASEARCH SCIENTIST has highest number of persons\")"
      ],
      "execution_count": 32,
      "outputs": [
        {
          "output_type": "display_data",
          "data": {
            "image/png": "[encoded data removed]",
            "text/plain": [
              "<Figure size 432x288 with 1 Axes>"
            ]
          },
          "metadata": {
            "tags": []
          }
        },
        {
          "output_type": "stream",
          "text": [
            "Clearly REASEARCH SCIENTIST has highest number of persons\n"
          ],
          "name": "stdout"
        }
      ]
    }
  ]
}